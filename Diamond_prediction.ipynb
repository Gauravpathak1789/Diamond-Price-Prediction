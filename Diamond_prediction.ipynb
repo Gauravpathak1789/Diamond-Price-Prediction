{
  "nbformat": 4,
  "nbformat_minor": 0,
  "metadata": {
    "colab": {
      "provenance": []
    },
    "kernelspec": {
      "name": "python3",
      "display_name": "Python 3"
    },
    "language_info": {
      "name": "python"
    }
  },
  "cells": [
    {
      "cell_type": "code",
      "execution_count": 1,
      "metadata": {
        "id": "GF9B1_CwQPgz"
      },
      "outputs": [],
      "source": [
        "import numpy as np\n",
        "import pandas as pd\n",
        "import matplotlib.pyplot as plt\n",
        "import seaborn as sns\n",
        "import warnings\n",
        "warnings.filterwarnings(\"ignore\")\n",
        "%matplotlib inline"
      ]
    },
    {
      "cell_type": "code",
      "source": [
        "data=sns.load_dataset(\"diamonds\")"
      ],
      "metadata": {
        "id": "Ym0V6W6iQxw9"
      },
      "execution_count": 2,
      "outputs": []
    },
    {
      "cell_type": "code",
      "source": [
        "data.shape"
      ],
      "metadata": {
        "colab": {
          "base_uri": "https://localhost:8080/"
        },
        "id": "FtlgHwUrQ1by",
        "outputId": "2934a5e2-81bc-40dc-d647-2094f4b2dd6f"
      },
      "execution_count": 3,
      "outputs": [
        {
          "output_type": "execute_result",
          "data": {
            "text/plain": [
              "(53940, 10)"
            ]
          },
          "metadata": {},
          "execution_count": 3
        }
      ]
    },
    {
      "cell_type": "code",
      "source": [
        "\n"
      ],
      "metadata": {
        "id": "ZdHptSNIS4IH"
      },
      "execution_count": 3,
      "outputs": []
    },
    {
      "cell_type": "code",
      "source": [
        "data.shape"
      ],
      "metadata": {
        "colab": {
          "base_uri": "https://localhost:8080/"
        },
        "id": "EDA1WhQ2TjO7",
        "outputId": "18298786-7ece-4207-d14a-3b29ebc39b5b"
      },
      "execution_count": 4,
      "outputs": [
        {
          "output_type": "execute_result",
          "data": {
            "text/plain": [
              "(53940, 10)"
            ]
          },
          "metadata": {},
          "execution_count": 4
        }
      ]
    },
    {
      "cell_type": "code",
      "source": [
        "\n",
        "data=data.rename(columns={\"x\":\"length\",\"y\":\"width\",\"z\":\"height\"})"
      ],
      "metadata": {
        "id": "MK2UvhcuQ7D3"
      },
      "execution_count": 5,
      "outputs": []
    },
    {
      "cell_type": "code",
      "source": [
        "data[\"price\"]=data[\"price\"]*83.04"
      ],
      "metadata": {
        "id": "JY0l3QFgQ9vv"
      },
      "execution_count": 6,
      "outputs": []
    },
    {
      "cell_type": "code",
      "source": [
        "from sklearn.compose import ColumnTransformer\n",
        "from sklearn.pipeline import make_pipeline,Pipeline"
      ],
      "metadata": {
        "id": "MEazH_1WRA-x"
      },
      "execution_count": 7,
      "outputs": []
    },
    {
      "cell_type": "code",
      "source": [
        "from sklearn.preprocessing import OrdinalEncoder\n",
        "from sklearn.model_selection import train_test_split\n",
        "from sklearn.preprocessing import StandardScaler\n",
        "from sklearn.linear_model import LinearRegression,SGDRegressor\n",
        "from sklearn.linear_model import LinearRegression,Ridge,Lasso,ElasticNet\n",
        "from sklearn.metrics import r2_score,mean_absolute_error,mean_squared_error"
      ],
      "metadata": {
        "id": "GBC0YRjtRE_1"
      },
      "execution_count": 8,
      "outputs": []
    },
    {
      "cell_type": "code",
      "source": [
        "d=data[[\"price\"]]\n"
      ],
      "metadata": {
        "id": "7F3_0YFLRHIK"
      },
      "execution_count": 9,
      "outputs": []
    },
    {
      "cell_type": "code",
      "source": [
        "data.drop(labels=[\"price\"],axis=1,inplace=True)"
      ],
      "metadata": {
        "id": "UcZwmNa3RJ0n"
      },
      "execution_count": 10,
      "outputs": []
    },
    {
      "cell_type": "code",
      "source": [
        "data[\"price\"]=d\n",
        "data.head()"
      ],
      "metadata": {
        "colab": {
          "base_uri": "https://localhost:8080/",
          "height": 206
        },
        "id": "JbwQhtezRMBr",
        "outputId": "c7b32a89-f95c-493c-b7ec-55149871e429"
      },
      "execution_count": 11,
      "outputs": [
        {
          "output_type": "execute_result",
          "data": {
            "text/plain": [
              "   carat      cut color clarity  depth  table  length  width  height     price\n",
              "0   0.23    Ideal     E     SI2   61.5   55.0    3.95   3.98    2.43  27071.04\n",
              "1   0.21  Premium     E     SI1   59.8   61.0    3.89   3.84    2.31  27071.04\n",
              "2   0.23     Good     E     VS1   56.9   65.0    4.05   4.07    2.31  27154.08\n",
              "3   0.29  Premium     I     VS2   62.4   58.0    4.20   4.23    2.63  27735.36\n",
              "4   0.31     Good     J     SI2   63.3   58.0    4.34   4.35    2.75  27818.40"
            ],
            "text/html": [
              "\n",
              "  <div id=\"df-4f8ad087-bd67-4a5a-af0d-db1fa69c6673\" class=\"colab-df-container\">\n",
              "    <div>\n",
              "<style scoped>\n",
              "    .dataframe tbody tr th:only-of-type {\n",
              "        vertical-align: middle;\n",
              "    }\n",
              "\n",
              "    .dataframe tbody tr th {\n",
              "        vertical-align: top;\n",
              "    }\n",
              "\n",
              "    .dataframe thead th {\n",
              "        text-align: right;\n",
              "    }\n",
              "</style>\n",
              "<table border=\"1\" class=\"dataframe\">\n",
              "  <thead>\n",
              "    <tr style=\"text-align: right;\">\n",
              "      <th></th>\n",
              "      <th>carat</th>\n",
              "      <th>cut</th>\n",
              "      <th>color</th>\n",
              "      <th>clarity</th>\n",
              "      <th>depth</th>\n",
              "      <th>table</th>\n",
              "      <th>length</th>\n",
              "      <th>width</th>\n",
              "      <th>height</th>\n",
              "      <th>price</th>\n",
              "    </tr>\n",
              "  </thead>\n",
              "  <tbody>\n",
              "    <tr>\n",
              "      <th>0</th>\n",
              "      <td>0.23</td>\n",
              "      <td>Ideal</td>\n",
              "      <td>E</td>\n",
              "      <td>SI2</td>\n",
              "      <td>61.5</td>\n",
              "      <td>55.0</td>\n",
              "      <td>3.95</td>\n",
              "      <td>3.98</td>\n",
              "      <td>2.43</td>\n",
              "      <td>27071.04</td>\n",
              "    </tr>\n",
              "    <tr>\n",
              "      <th>1</th>\n",
              "      <td>0.21</td>\n",
              "      <td>Premium</td>\n",
              "      <td>E</td>\n",
              "      <td>SI1</td>\n",
              "      <td>59.8</td>\n",
              "      <td>61.0</td>\n",
              "      <td>3.89</td>\n",
              "      <td>3.84</td>\n",
              "      <td>2.31</td>\n",
              "      <td>27071.04</td>\n",
              "    </tr>\n",
              "    <tr>\n",
              "      <th>2</th>\n",
              "      <td>0.23</td>\n",
              "      <td>Good</td>\n",
              "      <td>E</td>\n",
              "      <td>VS1</td>\n",
              "      <td>56.9</td>\n",
              "      <td>65.0</td>\n",
              "      <td>4.05</td>\n",
              "      <td>4.07</td>\n",
              "      <td>2.31</td>\n",
              "      <td>27154.08</td>\n",
              "    </tr>\n",
              "    <tr>\n",
              "      <th>3</th>\n",
              "      <td>0.29</td>\n",
              "      <td>Premium</td>\n",
              "      <td>I</td>\n",
              "      <td>VS2</td>\n",
              "      <td>62.4</td>\n",
              "      <td>58.0</td>\n",
              "      <td>4.20</td>\n",
              "      <td>4.23</td>\n",
              "      <td>2.63</td>\n",
              "      <td>27735.36</td>\n",
              "    </tr>\n",
              "    <tr>\n",
              "      <th>4</th>\n",
              "      <td>0.31</td>\n",
              "      <td>Good</td>\n",
              "      <td>J</td>\n",
              "      <td>SI2</td>\n",
              "      <td>63.3</td>\n",
              "      <td>58.0</td>\n",
              "      <td>4.34</td>\n",
              "      <td>4.35</td>\n",
              "      <td>2.75</td>\n",
              "      <td>27818.40</td>\n",
              "    </tr>\n",
              "  </tbody>\n",
              "</table>\n",
              "</div>\n",
              "    <div class=\"colab-df-buttons\">\n",
              "\n",
              "  <div class=\"colab-df-container\">\n",
              "    <button class=\"colab-df-convert\" onclick=\"convertToInteractive('df-4f8ad087-bd67-4a5a-af0d-db1fa69c6673')\"\n",
              "            title=\"Convert this dataframe to an interactive table.\"\n",
              "            style=\"display:none;\">\n",
              "\n",
              "  <svg xmlns=\"http://www.w3.org/2000/svg\" height=\"24px\" viewBox=\"0 -960 960 960\">\n",
              "    <path d=\"M120-120v-720h720v720H120Zm60-500h600v-160H180v160Zm220 220h160v-160H400v160Zm0 220h160v-160H400v160ZM180-400h160v-160H180v160Zm440 0h160v-160H620v160ZM180-180h160v-160H180v160Zm440 0h160v-160H620v160Z\"/>\n",
              "  </svg>\n",
              "    </button>\n",
              "\n",
              "  <style>\n",
              "    .colab-df-container {\n",
              "      display:flex;\n",
              "      gap: 12px;\n",
              "    }\n",
              "\n",
              "    .colab-df-convert {\n",
              "      background-color: #E8F0FE;\n",
              "      border: none;\n",
              "      border-radius: 50%;\n",
              "      cursor: pointer;\n",
              "      display: none;\n",
              "      fill: #1967D2;\n",
              "      height: 32px;\n",
              "      padding: 0 0 0 0;\n",
              "      width: 32px;\n",
              "    }\n",
              "\n",
              "    .colab-df-convert:hover {\n",
              "      background-color: #E2EBFA;\n",
              "      box-shadow: 0px 1px 2px rgba(60, 64, 67, 0.3), 0px 1px 3px 1px rgba(60, 64, 67, 0.15);\n",
              "      fill: #174EA6;\n",
              "    }\n",
              "\n",
              "    .colab-df-buttons div {\n",
              "      margin-bottom: 4px;\n",
              "    }\n",
              "\n",
              "    [theme=dark] .colab-df-convert {\n",
              "      background-color: #3B4455;\n",
              "      fill: #D2E3FC;\n",
              "    }\n",
              "\n",
              "    [theme=dark] .colab-df-convert:hover {\n",
              "      background-color: #434B5C;\n",
              "      box-shadow: 0px 1px 3px 1px rgba(0, 0, 0, 0.15);\n",
              "      filter: drop-shadow(0px 1px 2px rgba(0, 0, 0, 0.3));\n",
              "      fill: #FFFFFF;\n",
              "    }\n",
              "  </style>\n",
              "\n",
              "    <script>\n",
              "      const buttonEl =\n",
              "        document.querySelector('#df-4f8ad087-bd67-4a5a-af0d-db1fa69c6673 button.colab-df-convert');\n",
              "      buttonEl.style.display =\n",
              "        google.colab.kernel.accessAllowed ? 'block' : 'none';\n",
              "\n",
              "      async function convertToInteractive(key) {\n",
              "        const element = document.querySelector('#df-4f8ad087-bd67-4a5a-af0d-db1fa69c6673');\n",
              "        const dataTable =\n",
              "          await google.colab.kernel.invokeFunction('convertToInteractive',\n",
              "                                                    [key], {});\n",
              "        if (!dataTable) return;\n",
              "\n",
              "        const docLinkHtml = 'Like what you see? Visit the ' +\n",
              "          '<a target=\"_blank\" href=https://colab.research.google.com/notebooks/data_table.ipynb>data table notebook</a>'\n",
              "          + ' to learn more about interactive tables.';\n",
              "        element.innerHTML = '';\n",
              "        dataTable['output_type'] = 'display_data';\n",
              "        await google.colab.output.renderOutput(dataTable, element);\n",
              "        const docLink = document.createElement('div');\n",
              "        docLink.innerHTML = docLinkHtml;\n",
              "        element.appendChild(docLink);\n",
              "      }\n",
              "    </script>\n",
              "  </div>\n",
              "\n",
              "\n",
              "<div id=\"df-722e131d-19ea-40ea-9aaf-662e38339d35\">\n",
              "  <button class=\"colab-df-quickchart\" onclick=\"quickchart('df-722e131d-19ea-40ea-9aaf-662e38339d35')\"\n",
              "            title=\"Suggest charts\"\n",
              "            style=\"display:none;\">\n",
              "\n",
              "<svg xmlns=\"http://www.w3.org/2000/svg\" height=\"24px\"viewBox=\"0 0 24 24\"\n",
              "     width=\"24px\">\n",
              "    <g>\n",
              "        <path d=\"M19 3H5c-1.1 0-2 .9-2 2v14c0 1.1.9 2 2 2h14c1.1 0 2-.9 2-2V5c0-1.1-.9-2-2-2zM9 17H7v-7h2v7zm4 0h-2V7h2v10zm4 0h-2v-4h2v4z\"/>\n",
              "    </g>\n",
              "</svg>\n",
              "  </button>\n",
              "\n",
              "<style>\n",
              "  .colab-df-quickchart {\n",
              "      --bg-color: #E8F0FE;\n",
              "      --fill-color: #1967D2;\n",
              "      --hover-bg-color: #E2EBFA;\n",
              "      --hover-fill-color: #174EA6;\n",
              "      --disabled-fill-color: #AAA;\n",
              "      --disabled-bg-color: #DDD;\n",
              "  }\n",
              "\n",
              "  [theme=dark] .colab-df-quickchart {\n",
              "      --bg-color: #3B4455;\n",
              "      --fill-color: #D2E3FC;\n",
              "      --hover-bg-color: #434B5C;\n",
              "      --hover-fill-color: #FFFFFF;\n",
              "      --disabled-bg-color: #3B4455;\n",
              "      --disabled-fill-color: #666;\n",
              "  }\n",
              "\n",
              "  .colab-df-quickchart {\n",
              "    background-color: var(--bg-color);\n",
              "    border: none;\n",
              "    border-radius: 50%;\n",
              "    cursor: pointer;\n",
              "    display: none;\n",
              "    fill: var(--fill-color);\n",
              "    height: 32px;\n",
              "    padding: 0;\n",
              "    width: 32px;\n",
              "  }\n",
              "\n",
              "  .colab-df-quickchart:hover {\n",
              "    background-color: var(--hover-bg-color);\n",
              "    box-shadow: 0 1px 2px rgba(60, 64, 67, 0.3), 0 1px 3px 1px rgba(60, 64, 67, 0.15);\n",
              "    fill: var(--button-hover-fill-color);\n",
              "  }\n",
              "\n",
              "  .colab-df-quickchart-complete:disabled,\n",
              "  .colab-df-quickchart-complete:disabled:hover {\n",
              "    background-color: var(--disabled-bg-color);\n",
              "    fill: var(--disabled-fill-color);\n",
              "    box-shadow: none;\n",
              "  }\n",
              "\n",
              "  .colab-df-spinner {\n",
              "    border: 2px solid var(--fill-color);\n",
              "    border-color: transparent;\n",
              "    border-bottom-color: var(--fill-color);\n",
              "    animation:\n",
              "      spin 1s steps(1) infinite;\n",
              "  }\n",
              "\n",
              "  @keyframes spin {\n",
              "    0% {\n",
              "      border-color: transparent;\n",
              "      border-bottom-color: var(--fill-color);\n",
              "      border-left-color: var(--fill-color);\n",
              "    }\n",
              "    20% {\n",
              "      border-color: transparent;\n",
              "      border-left-color: var(--fill-color);\n",
              "      border-top-color: var(--fill-color);\n",
              "    }\n",
              "    30% {\n",
              "      border-color: transparent;\n",
              "      border-left-color: var(--fill-color);\n",
              "      border-top-color: var(--fill-color);\n",
              "      border-right-color: var(--fill-color);\n",
              "    }\n",
              "    40% {\n",
              "      border-color: transparent;\n",
              "      border-right-color: var(--fill-color);\n",
              "      border-top-color: var(--fill-color);\n",
              "    }\n",
              "    60% {\n",
              "      border-color: transparent;\n",
              "      border-right-color: var(--fill-color);\n",
              "    }\n",
              "    80% {\n",
              "      border-color: transparent;\n",
              "      border-right-color: var(--fill-color);\n",
              "      border-bottom-color: var(--fill-color);\n",
              "    }\n",
              "    90% {\n",
              "      border-color: transparent;\n",
              "      border-bottom-color: var(--fill-color);\n",
              "    }\n",
              "  }\n",
              "</style>\n",
              "\n",
              "  <script>\n",
              "    async function quickchart(key) {\n",
              "      const quickchartButtonEl =\n",
              "        document.querySelector('#' + key + ' button');\n",
              "      quickchartButtonEl.disabled = true;  // To prevent multiple clicks.\n",
              "      quickchartButtonEl.classList.add('colab-df-spinner');\n",
              "      try {\n",
              "        const charts = await google.colab.kernel.invokeFunction(\n",
              "            'suggestCharts', [key], {});\n",
              "      } catch (error) {\n",
              "        console.error('Error during call to suggestCharts:', error);\n",
              "      }\n",
              "      quickchartButtonEl.classList.remove('colab-df-spinner');\n",
              "      quickchartButtonEl.classList.add('colab-df-quickchart-complete');\n",
              "    }\n",
              "    (() => {\n",
              "      let quickchartButtonEl =\n",
              "        document.querySelector('#df-722e131d-19ea-40ea-9aaf-662e38339d35 button');\n",
              "      quickchartButtonEl.style.display =\n",
              "        google.colab.kernel.accessAllowed ? 'block' : 'none';\n",
              "    })();\n",
              "  </script>\n",
              "</div>\n",
              "\n",
              "    </div>\n",
              "  </div>\n"
            ]
          },
          "metadata": {},
          "execution_count": 11
        }
      ]
    },
    {
      "cell_type": "code",
      "source": [
        "x=data.iloc[:,:-1]\n",
        "y=data.iloc[:,-1:]"
      ],
      "metadata": {
        "id": "5BAi20CDRN0o"
      },
      "execution_count": 12,
      "outputs": []
    },
    {
      "cell_type": "code",
      "source": [
        "X_train,X_test,Y_train,Y_test=train_test_split(x,y,test_size=0.2,random_state=42)"
      ],
      "metadata": {
        "id": "YoeCRA4fRREZ"
      },
      "execution_count": 13,
      "outputs": []
    },
    {
      "cell_type": "code",
      "source": [
        "\n",
        "from sklearn import set_config\n",
        "set_config(display=\"diagram\")\n"
      ],
      "metadata": {
        "id": "qAZxxsHGRTpW"
      },
      "execution_count": 14,
      "outputs": []
    },
    {
      "cell_type": "code",
      "source": [
        "from sklearn.tree import DecisionTreeRegressor\n",
        "from sklearn.model_selection import GridSearchCV"
      ],
      "metadata": {
        "id": "98SnQjRPRVFS"
      },
      "execution_count": 15,
      "outputs": []
    },
    {
      "cell_type": "code",
      "source": [
        "# ON RandomForestRegressor"
      ],
      "metadata": {
        "id": "7dQCnb0QZxgu"
      },
      "execution_count": null,
      "outputs": []
    },
    {
      "cell_type": "code",
      "source": [
        "from sklearn.ensemble import RandomForestRegressor"
      ],
      "metadata": {
        "id": "PGFrEPyYSx_3"
      },
      "execution_count": 16,
      "outputs": []
    },
    {
      "cell_type": "code",
      "source": [
        "trf1 = ColumnTransformer([\n",
        "    (\"trf1\", OrdinalEncoder(categories=[['Fair', 'Good', 'Very Good', 'Premium', 'Ideal'],\n",
        "                                        ['D', 'E', 'F', 'G', 'H', 'I', 'J'],\n",
        "                                        ['IF', 'VVS1', 'VVS2', 'VS1', 'VS2', 'SI1', 'SI2', 'I1']]), [1, 2, 3])\n",
        "], remainder='passthrough')\n",
        "trf2 = ColumnTransformer([(\"trf2\", StandardScaler(), slice(0, 10))])\n",
        "trf3=RandomForestRegressor()"
      ],
      "metadata": {
        "id": "7SyCDsY2SmKf"
      },
      "execution_count": 17,
      "outputs": []
    },
    {
      "cell_type": "code",
      "source": [
        "pipe1 = Pipeline(steps=[\n",
        "    ('columntransformer1', trf1),\n",
        "    ('columntransformer2', trf2),\n",
        "    ('randomforestreeregressor', RandomForestRegressor())  # Ensure this is the correct step name\n",
        "])"
      ],
      "metadata": {
        "id": "wA6dWgxLSmNx"
      },
      "execution_count": 18,
      "outputs": []
    },
    {
      "cell_type": "code",
      "source": [
        "\n",
        "n_estimators=[20,40,60,80,100,120]\n",
        "max_features=[0.2,0.6,0.8,1.0]\n",
        "max_depth=[2,3,5,None]\n",
        "max_sample=[0.4,0.5,0.75,0.95,1.0]\n",
        "bootstrap=[True,False]\n",
        "min_sample_split=[2,3,5]\n",
        "min_sample_leaf=[1,2]"
      ],
      "metadata": {
        "id": "HNGAKR3dSmUH"
      },
      "execution_count": 19,
      "outputs": []
    },
    {
      "cell_type": "code",
      "source": [
        "param_grid={'randomforestreeregressor__n_estimators':n_estimators,'randomforestreeregressor__max_features':max_features,\n",
        "            'randomforestreeregressor__max_depth':max_depth,'randomforestreeregressor__max_samples':max_sample,\n",
        "            'randomforestreeregressor__bootstrap':bootstrap,'randomforestreeregressor__min_samples_split':min_sample_split,\n",
        "            'randomforestreeregressor__min_samples_leaf':min_sample_leaf\n",
        "           }"
      ],
      "metadata": {
        "id": "YRbbT-5BSmW4"
      },
      "execution_count": 20,
      "outputs": []
    },
    {
      "cell_type": "code",
      "source": [
        "from sklearn.model_selection import RandomizedSearchCV\n"
      ],
      "metadata": {
        "id": "wOab7HwNWhjM"
      },
      "execution_count": 21,
      "outputs": []
    },
    {
      "cell_type": "code",
      "source": [
        "rf_grd=RandomizedSearchCV(estimator=pipe1,)"
      ],
      "metadata": {
        "id": "OpgNBxcSWhuI"
      },
      "execution_count": null,
      "outputs": []
    },
    {
      "cell_type": "code",
      "source": [
        "rf_grid=RandomizedSearchCV(pipe1,param_distributions=param_grid,cv=5,n_jobs=-1)"
      ],
      "metadata": {
        "id": "yZUGvp0GSmYj"
      },
      "execution_count": 22,
      "outputs": []
    },
    {
      "cell_type": "code",
      "source": [],
      "metadata": {
        "id": "TOgnuw9gWRDh"
      },
      "execution_count": null,
      "outputs": []
    },
    {
      "cell_type": "code",
      "source": [
        "rf_grid.fit(X_train,Y_train)"
      ],
      "metadata": {
        "colab": {
          "base_uri": "https://localhost:8080/",
          "height": 314
        },
        "id": "ecbpGvCTSmb2",
        "outputId": "acbf597d-994d-4ea1-aed4-1846678f653b"
      },
      "execution_count": 23,
      "outputs": [
        {
          "output_type": "execute_result",
          "data": {
            "text/plain": [
              "RandomizedSearchCV(cv=5,\n",
              "                   estimator=Pipeline(steps=[('columntransformer1',\n",
              "                                              ColumnTransformer(remainder='passthrough',\n",
              "                                                                transformers=[('trf1',\n",
              "                                                                               OrdinalEncoder(categories=[['Fair',\n",
              "                                                                                                           'Good',\n",
              "                                                                                                           'Very '\n",
              "                                                                                                           'Good',\n",
              "                                                                                                           'Premium',\n",
              "                                                                                                           'Ideal'],\n",
              "                                                                                                          ['D',\n",
              "                                                                                                           'E',\n",
              "                                                                                                           'F',\n",
              "                                                                                                           'G',\n",
              "                                                                                                           'H',\n",
              "                                                                                                           'I',\n",
              "                                                                                                           'J'],\n",
              "                                                                                                          ['IF',\n",
              "                                                                                                           'VVS1',\n",
              "                                                                                                           'VVS2',\n",
              "                                                                                                           'VS1',\n",
              "                                                                                                           'VS2',\n",
              "                                                                                                           'SI1',\n",
              "                                                                                                           'SI2',\n",
              "                                                                                                           'I1']]),\n",
              "                                                                               [1,\n",
              "                                                                                2,\n",
              "                                                                                3])])),\n",
              "                                             ('columntransformer2',\n",
              "                                              ColumnTransformer(transf...\n",
              "                                                                                False],\n",
              "                                        'randomforestreeregressor__max_depth': [2,\n",
              "                                                                                3,\n",
              "                                                                                5,\n",
              "                                                                                None],\n",
              "                                        'randomforestreeregressor__max_features': [0.2,\n",
              "                                                                                   0.6,\n",
              "                                                                                   0.8,\n",
              "                                                                                   1.0],\n",
              "                                        'randomforestreeregressor__max_samples': [0.4,\n",
              "                                                                                  0.5,\n",
              "                                                                                  0.75,\n",
              "                                                                                  0.95,\n",
              "                                                                                  1.0],\n",
              "                                        'randomforestreeregressor__min_samples_leaf': [1,\n",
              "                                                                                       2],\n",
              "                                        'randomforestreeregressor__min_samples_split': [2,\n",
              "                                                                                        3,\n",
              "                                                                                        5],\n",
              "                                        'randomforestreeregressor__n_estimators': [20,\n",
              "                                                                                   40,\n",
              "                                                                                   60,\n",
              "                                                                                   80,\n",
              "                                                                                   100,\n",
              "                                                                                   120]})"
            ],
            "text/html": [
              "<style>#sk-container-id-1 {color: black;background-color: white;}#sk-container-id-1 pre{padding: 0;}#sk-container-id-1 div.sk-toggleable {background-color: white;}#sk-container-id-1 label.sk-toggleable__label {cursor: pointer;display: block;width: 100%;margin-bottom: 0;padding: 0.3em;box-sizing: border-box;text-align: center;}#sk-container-id-1 label.sk-toggleable__label-arrow:before {content: \"▸\";float: left;margin-right: 0.25em;color: #696969;}#sk-container-id-1 label.sk-toggleable__label-arrow:hover:before {color: black;}#sk-container-id-1 div.sk-estimator:hover label.sk-toggleable__label-arrow:before {color: black;}#sk-container-id-1 div.sk-toggleable__content {max-height: 0;max-width: 0;overflow: hidden;text-align: left;background-color: #f0f8ff;}#sk-container-id-1 div.sk-toggleable__content pre {margin: 0.2em;color: black;border-radius: 0.25em;background-color: #f0f8ff;}#sk-container-id-1 input.sk-toggleable__control:checked~div.sk-toggleable__content {max-height: 200px;max-width: 100%;overflow: auto;}#sk-container-id-1 input.sk-toggleable__control:checked~label.sk-toggleable__label-arrow:before {content: \"▾\";}#sk-container-id-1 div.sk-estimator input.sk-toggleable__control:checked~label.sk-toggleable__label {background-color: #d4ebff;}#sk-container-id-1 div.sk-label input.sk-toggleable__control:checked~label.sk-toggleable__label {background-color: #d4ebff;}#sk-container-id-1 input.sk-hidden--visually {border: 0;clip: rect(1px 1px 1px 1px);clip: rect(1px, 1px, 1px, 1px);height: 1px;margin: -1px;overflow: hidden;padding: 0;position: absolute;width: 1px;}#sk-container-id-1 div.sk-estimator {font-family: monospace;background-color: #f0f8ff;border: 1px dotted black;border-radius: 0.25em;box-sizing: border-box;margin-bottom: 0.5em;}#sk-container-id-1 div.sk-estimator:hover {background-color: #d4ebff;}#sk-container-id-1 div.sk-parallel-item::after {content: \"\";width: 100%;border-bottom: 1px solid gray;flex-grow: 1;}#sk-container-id-1 div.sk-label:hover label.sk-toggleable__label {background-color: #d4ebff;}#sk-container-id-1 div.sk-serial::before {content: \"\";position: absolute;border-left: 1px solid gray;box-sizing: border-box;top: 0;bottom: 0;left: 50%;z-index: 0;}#sk-container-id-1 div.sk-serial {display: flex;flex-direction: column;align-items: center;background-color: white;padding-right: 0.2em;padding-left: 0.2em;position: relative;}#sk-container-id-1 div.sk-item {position: relative;z-index: 1;}#sk-container-id-1 div.sk-parallel {display: flex;align-items: stretch;justify-content: center;background-color: white;position: relative;}#sk-container-id-1 div.sk-item::before, #sk-container-id-1 div.sk-parallel-item::before {content: \"\";position: absolute;border-left: 1px solid gray;box-sizing: border-box;top: 0;bottom: 0;left: 50%;z-index: -1;}#sk-container-id-1 div.sk-parallel-item {display: flex;flex-direction: column;z-index: 1;position: relative;background-color: white;}#sk-container-id-1 div.sk-parallel-item:first-child::after {align-self: flex-end;width: 50%;}#sk-container-id-1 div.sk-parallel-item:last-child::after {align-self: flex-start;width: 50%;}#sk-container-id-1 div.sk-parallel-item:only-child::after {width: 0;}#sk-container-id-1 div.sk-dashed-wrapped {border: 1px dashed gray;margin: 0 0.4em 0.5em 0.4em;box-sizing: border-box;padding-bottom: 0.4em;background-color: white;}#sk-container-id-1 div.sk-label label {font-family: monospace;font-weight: bold;display: inline-block;line-height: 1.2em;}#sk-container-id-1 div.sk-label-container {text-align: center;}#sk-container-id-1 div.sk-container {/* jupyter's `normalize.less` sets `[hidden] { display: none; }` but bootstrap.min.css set `[hidden] { display: none !important; }` so we also need the `!important` here to be able to override the default hidden behavior on the sphinx rendered scikit-learn.org. See: https://github.com/scikit-learn/scikit-learn/issues/21755 */display: inline-block !important;position: relative;}#sk-container-id-1 div.sk-text-repr-fallback {display: none;}</style><div id=\"sk-container-id-1\" class=\"sk-top-container\"><div class=\"sk-text-repr-fallback\"><pre>RandomizedSearchCV(cv=5,\n",
              "                   estimator=Pipeline(steps=[(&#x27;columntransformer1&#x27;,\n",
              "                                              ColumnTransformer(remainder=&#x27;passthrough&#x27;,\n",
              "                                                                transformers=[(&#x27;trf1&#x27;,\n",
              "                                                                               OrdinalEncoder(categories=[[&#x27;Fair&#x27;,\n",
              "                                                                                                           &#x27;Good&#x27;,\n",
              "                                                                                                           &#x27;Very &#x27;\n",
              "                                                                                                           &#x27;Good&#x27;,\n",
              "                                                                                                           &#x27;Premium&#x27;,\n",
              "                                                                                                           &#x27;Ideal&#x27;],\n",
              "                                                                                                          [&#x27;D&#x27;,\n",
              "                                                                                                           &#x27;E&#x27;,\n",
              "                                                                                                           &#x27;F&#x27;,\n",
              "                                                                                                           &#x27;G&#x27;,\n",
              "                                                                                                           &#x27;H&#x27;,\n",
              "                                                                                                           &#x27;I&#x27;,\n",
              "                                                                                                           &#x27;J&#x27;],\n",
              "                                                                                                          [&#x27;IF&#x27;,\n",
              "                                                                                                           &#x27;VVS1&#x27;,\n",
              "                                                                                                           &#x27;VVS2&#x27;,\n",
              "                                                                                                           &#x27;VS1&#x27;,\n",
              "                                                                                                           &#x27;VS2&#x27;,\n",
              "                                                                                                           &#x27;SI1&#x27;,\n",
              "                                                                                                           &#x27;SI2&#x27;,\n",
              "                                                                                                           &#x27;I1&#x27;]]),\n",
              "                                                                               [1,\n",
              "                                                                                2,\n",
              "                                                                                3])])),\n",
              "                                             (&#x27;columntransformer2&#x27;,\n",
              "                                              ColumnTransformer(transf...\n",
              "                                                                                False],\n",
              "                                        &#x27;randomforestreeregressor__max_depth&#x27;: [2,\n",
              "                                                                                3,\n",
              "                                                                                5,\n",
              "                                                                                None],\n",
              "                                        &#x27;randomforestreeregressor__max_features&#x27;: [0.2,\n",
              "                                                                                   0.6,\n",
              "                                                                                   0.8,\n",
              "                                                                                   1.0],\n",
              "                                        &#x27;randomforestreeregressor__max_samples&#x27;: [0.4,\n",
              "                                                                                  0.5,\n",
              "                                                                                  0.75,\n",
              "                                                                                  0.95,\n",
              "                                                                                  1.0],\n",
              "                                        &#x27;randomforestreeregressor__min_samples_leaf&#x27;: [1,\n",
              "                                                                                       2],\n",
              "                                        &#x27;randomforestreeregressor__min_samples_split&#x27;: [2,\n",
              "                                                                                        3,\n",
              "                                                                                        5],\n",
              "                                        &#x27;randomforestreeregressor__n_estimators&#x27;: [20,\n",
              "                                                                                   40,\n",
              "                                                                                   60,\n",
              "                                                                                   80,\n",
              "                                                                                   100,\n",
              "                                                                                   120]})</pre><b>In a Jupyter environment, please rerun this cell to show the HTML representation or trust the notebook. <br />On GitHub, the HTML representation is unable to render, please try loading this page with nbviewer.org.</b></div><div class=\"sk-container\" hidden><div class=\"sk-item sk-dashed-wrapped\"><div class=\"sk-label-container\"><div class=\"sk-label sk-toggleable\"><input class=\"sk-toggleable__control sk-hidden--visually\" id=\"sk-estimator-id-1\" type=\"checkbox\" ><label for=\"sk-estimator-id-1\" class=\"sk-toggleable__label sk-toggleable__label-arrow\">RandomizedSearchCV</label><div class=\"sk-toggleable__content\"><pre>RandomizedSearchCV(cv=5,\n",
              "                   estimator=Pipeline(steps=[(&#x27;columntransformer1&#x27;,\n",
              "                                              ColumnTransformer(remainder=&#x27;passthrough&#x27;,\n",
              "                                                                transformers=[(&#x27;trf1&#x27;,\n",
              "                                                                               OrdinalEncoder(categories=[[&#x27;Fair&#x27;,\n",
              "                                                                                                           &#x27;Good&#x27;,\n",
              "                                                                                                           &#x27;Very &#x27;\n",
              "                                                                                                           &#x27;Good&#x27;,\n",
              "                                                                                                           &#x27;Premium&#x27;,\n",
              "                                                                                                           &#x27;Ideal&#x27;],\n",
              "                                                                                                          [&#x27;D&#x27;,\n",
              "                                                                                                           &#x27;E&#x27;,\n",
              "                                                                                                           &#x27;F&#x27;,\n",
              "                                                                                                           &#x27;G&#x27;,\n",
              "                                                                                                           &#x27;H&#x27;,\n",
              "                                                                                                           &#x27;I&#x27;,\n",
              "                                                                                                           &#x27;J&#x27;],\n",
              "                                                                                                          [&#x27;IF&#x27;,\n",
              "                                                                                                           &#x27;VVS1&#x27;,\n",
              "                                                                                                           &#x27;VVS2&#x27;,\n",
              "                                                                                                           &#x27;VS1&#x27;,\n",
              "                                                                                                           &#x27;VS2&#x27;,\n",
              "                                                                                                           &#x27;SI1&#x27;,\n",
              "                                                                                                           &#x27;SI2&#x27;,\n",
              "                                                                                                           &#x27;I1&#x27;]]),\n",
              "                                                                               [1,\n",
              "                                                                                2,\n",
              "                                                                                3])])),\n",
              "                                             (&#x27;columntransformer2&#x27;,\n",
              "                                              ColumnTransformer(transf...\n",
              "                                                                                False],\n",
              "                                        &#x27;randomforestreeregressor__max_depth&#x27;: [2,\n",
              "                                                                                3,\n",
              "                                                                                5,\n",
              "                                                                                None],\n",
              "                                        &#x27;randomforestreeregressor__max_features&#x27;: [0.2,\n",
              "                                                                                   0.6,\n",
              "                                                                                   0.8,\n",
              "                                                                                   1.0],\n",
              "                                        &#x27;randomforestreeregressor__max_samples&#x27;: [0.4,\n",
              "                                                                                  0.5,\n",
              "                                                                                  0.75,\n",
              "                                                                                  0.95,\n",
              "                                                                                  1.0],\n",
              "                                        &#x27;randomforestreeregressor__min_samples_leaf&#x27;: [1,\n",
              "                                                                                       2],\n",
              "                                        &#x27;randomforestreeregressor__min_samples_split&#x27;: [2,\n",
              "                                                                                        3,\n",
              "                                                                                        5],\n",
              "                                        &#x27;randomforestreeregressor__n_estimators&#x27;: [20,\n",
              "                                                                                   40,\n",
              "                                                                                   60,\n",
              "                                                                                   80,\n",
              "                                                                                   100,\n",
              "                                                                                   120]})</pre></div></div></div><div class=\"sk-parallel\"><div class=\"sk-parallel-item\"><div class=\"sk-item\"><div class=\"sk-label-container\"><div class=\"sk-label sk-toggleable\"><input class=\"sk-toggleable__control sk-hidden--visually\" id=\"sk-estimator-id-2\" type=\"checkbox\" ><label for=\"sk-estimator-id-2\" class=\"sk-toggleable__label sk-toggleable__label-arrow\">estimator: Pipeline</label><div class=\"sk-toggleable__content\"><pre>Pipeline(steps=[(&#x27;columntransformer1&#x27;,\n",
              "                 ColumnTransformer(remainder=&#x27;passthrough&#x27;,\n",
              "                                   transformers=[(&#x27;trf1&#x27;,\n",
              "                                                  OrdinalEncoder(categories=[[&#x27;Fair&#x27;,\n",
              "                                                                              &#x27;Good&#x27;,\n",
              "                                                                              &#x27;Very &#x27;\n",
              "                                                                              &#x27;Good&#x27;,\n",
              "                                                                              &#x27;Premium&#x27;,\n",
              "                                                                              &#x27;Ideal&#x27;],\n",
              "                                                                             [&#x27;D&#x27;,\n",
              "                                                                              &#x27;E&#x27;,\n",
              "                                                                              &#x27;F&#x27;,\n",
              "                                                                              &#x27;G&#x27;,\n",
              "                                                                              &#x27;H&#x27;,\n",
              "                                                                              &#x27;I&#x27;,\n",
              "                                                                              &#x27;J&#x27;],\n",
              "                                                                             [&#x27;IF&#x27;,\n",
              "                                                                              &#x27;VVS1&#x27;,\n",
              "                                                                              &#x27;VVS2&#x27;,\n",
              "                                                                              &#x27;VS1&#x27;,\n",
              "                                                                              &#x27;VS2&#x27;,\n",
              "                                                                              &#x27;SI1&#x27;,\n",
              "                                                                              &#x27;SI2&#x27;,\n",
              "                                                                              &#x27;I1&#x27;]]),\n",
              "                                                  [1, 2, 3])])),\n",
              "                (&#x27;columntransformer2&#x27;,\n",
              "                 ColumnTransformer(transformers=[(&#x27;trf2&#x27;, StandardScaler(),\n",
              "                                                  slice(0, 10, None))])),\n",
              "                (&#x27;randomforestreeregressor&#x27;, RandomForestRegressor())])</pre></div></div></div><div class=\"sk-serial\"><div class=\"sk-item\"><div class=\"sk-serial\"><div class=\"sk-item sk-dashed-wrapped\"><div class=\"sk-label-container\"><div class=\"sk-label sk-toggleable\"><input class=\"sk-toggleable__control sk-hidden--visually\" id=\"sk-estimator-id-3\" type=\"checkbox\" ><label for=\"sk-estimator-id-3\" class=\"sk-toggleable__label sk-toggleable__label-arrow\">columntransformer1: ColumnTransformer</label><div class=\"sk-toggleable__content\"><pre>ColumnTransformer(remainder=&#x27;passthrough&#x27;,\n",
              "                  transformers=[(&#x27;trf1&#x27;,\n",
              "                                 OrdinalEncoder(categories=[[&#x27;Fair&#x27;, &#x27;Good&#x27;,\n",
              "                                                             &#x27;Very Good&#x27;,\n",
              "                                                             &#x27;Premium&#x27;,\n",
              "                                                             &#x27;Ideal&#x27;],\n",
              "                                                            [&#x27;D&#x27;, &#x27;E&#x27;, &#x27;F&#x27;, &#x27;G&#x27;,\n",
              "                                                             &#x27;H&#x27;, &#x27;I&#x27;, &#x27;J&#x27;],\n",
              "                                                            [&#x27;IF&#x27;, &#x27;VVS1&#x27;,\n",
              "                                                             &#x27;VVS2&#x27;, &#x27;VS1&#x27;,\n",
              "                                                             &#x27;VS2&#x27;, &#x27;SI1&#x27;,\n",
              "                                                             &#x27;SI2&#x27;, &#x27;I1&#x27;]]),\n",
              "                                 [1, 2, 3])])</pre></div></div></div><div class=\"sk-parallel\"><div class=\"sk-parallel-item\"><div class=\"sk-item\"><div class=\"sk-label-container\"><div class=\"sk-label sk-toggleable\"><input class=\"sk-toggleable__control sk-hidden--visually\" id=\"sk-estimator-id-4\" type=\"checkbox\" ><label for=\"sk-estimator-id-4\" class=\"sk-toggleable__label sk-toggleable__label-arrow\">trf1</label><div class=\"sk-toggleable__content\"><pre>[1, 2, 3]</pre></div></div></div><div class=\"sk-serial\"><div class=\"sk-item\"><div class=\"sk-estimator sk-toggleable\"><input class=\"sk-toggleable__control sk-hidden--visually\" id=\"sk-estimator-id-5\" type=\"checkbox\" ><label for=\"sk-estimator-id-5\" class=\"sk-toggleable__label sk-toggleable__label-arrow\">OrdinalEncoder</label><div class=\"sk-toggleable__content\"><pre>OrdinalEncoder(categories=[[&#x27;Fair&#x27;, &#x27;Good&#x27;, &#x27;Very Good&#x27;, &#x27;Premium&#x27;, &#x27;Ideal&#x27;],\n",
              "                           [&#x27;D&#x27;, &#x27;E&#x27;, &#x27;F&#x27;, &#x27;G&#x27;, &#x27;H&#x27;, &#x27;I&#x27;, &#x27;J&#x27;],\n",
              "                           [&#x27;IF&#x27;, &#x27;VVS1&#x27;, &#x27;VVS2&#x27;, &#x27;VS1&#x27;, &#x27;VS2&#x27;, &#x27;SI1&#x27;, &#x27;SI2&#x27;,\n",
              "                            &#x27;I1&#x27;]])</pre></div></div></div></div></div></div><div class=\"sk-parallel-item\"><div class=\"sk-item\"><div class=\"sk-label-container\"><div class=\"sk-label sk-toggleable\"><input class=\"sk-toggleable__control sk-hidden--visually\" id=\"sk-estimator-id-6\" type=\"checkbox\" ><label for=\"sk-estimator-id-6\" class=\"sk-toggleable__label sk-toggleable__label-arrow\">remainder</label><div class=\"sk-toggleable__content\"><pre></pre></div></div></div><div class=\"sk-serial\"><div class=\"sk-item\"><div class=\"sk-estimator sk-toggleable\"><input class=\"sk-toggleable__control sk-hidden--visually\" id=\"sk-estimator-id-7\" type=\"checkbox\" ><label for=\"sk-estimator-id-7\" class=\"sk-toggleable__label sk-toggleable__label-arrow\">passthrough</label><div class=\"sk-toggleable__content\"><pre>passthrough</pre></div></div></div></div></div></div></div></div><div class=\"sk-item sk-dashed-wrapped\"><div class=\"sk-label-container\"><div class=\"sk-label sk-toggleable\"><input class=\"sk-toggleable__control sk-hidden--visually\" id=\"sk-estimator-id-8\" type=\"checkbox\" ><label for=\"sk-estimator-id-8\" class=\"sk-toggleable__label sk-toggleable__label-arrow\">columntransformer2: ColumnTransformer</label><div class=\"sk-toggleable__content\"><pre>ColumnTransformer(transformers=[(&#x27;trf2&#x27;, StandardScaler(), slice(0, 10, None))])</pre></div></div></div><div class=\"sk-parallel\"><div class=\"sk-parallel-item\"><div class=\"sk-item\"><div class=\"sk-label-container\"><div class=\"sk-label sk-toggleable\"><input class=\"sk-toggleable__control sk-hidden--visually\" id=\"sk-estimator-id-9\" type=\"checkbox\" ><label for=\"sk-estimator-id-9\" class=\"sk-toggleable__label sk-toggleable__label-arrow\">trf2</label><div class=\"sk-toggleable__content\"><pre>slice(0, 10, None)</pre></div></div></div><div class=\"sk-serial\"><div class=\"sk-item\"><div class=\"sk-estimator sk-toggleable\"><input class=\"sk-toggleable__control sk-hidden--visually\" id=\"sk-estimator-id-10\" type=\"checkbox\" ><label for=\"sk-estimator-id-10\" class=\"sk-toggleable__label sk-toggleable__label-arrow\">StandardScaler</label><div class=\"sk-toggleable__content\"><pre>StandardScaler()</pre></div></div></div></div></div></div></div></div><div class=\"sk-item\"><div class=\"sk-estimator sk-toggleable\"><input class=\"sk-toggleable__control sk-hidden--visually\" id=\"sk-estimator-id-11\" type=\"checkbox\" ><label for=\"sk-estimator-id-11\" class=\"sk-toggleable__label sk-toggleable__label-arrow\">RandomForestRegressor</label><div class=\"sk-toggleable__content\"><pre>RandomForestRegressor()</pre></div></div></div></div></div></div></div></div></div></div></div></div>"
            ]
          },
          "metadata": {},
          "execution_count": 23
        }
      ]
    },
    {
      "cell_type": "code",
      "source": [
        "rf_grid.best_params_"
      ],
      "metadata": {
        "colab": {
          "base_uri": "https://localhost:8080/"
        },
        "id": "N2NlhCNuT8Um",
        "outputId": "643fe4d9-8b7a-444b-e8e1-7f6e06c54e11"
      },
      "execution_count": 24,
      "outputs": [
        {
          "output_type": "execute_result",
          "data": {
            "text/plain": [
              "{'randomforestreeregressor__n_estimators': 80,\n",
              " 'randomforestreeregressor__min_samples_split': 2,\n",
              " 'randomforestreeregressor__min_samples_leaf': 1,\n",
              " 'randomforestreeregressor__max_samples': 0.5,\n",
              " 'randomforestreeregressor__max_features': 0.6,\n",
              " 'randomforestreeregressor__max_depth': None,\n",
              " 'randomforestreeregressor__bootstrap': True}"
            ]
          },
          "metadata": {},
          "execution_count": 24
        }
      ]
    },
    {
      "cell_type": "code",
      "source": [
        "y_prr=rf_grid.predict(X_test)"
      ],
      "metadata": {
        "id": "vXLeuvb1T8X9"
      },
      "execution_count": 25,
      "outputs": []
    },
    {
      "cell_type": "code",
      "source": [
        "r2_score(Y_test,y_prr)"
      ],
      "metadata": {
        "colab": {
          "base_uri": "https://localhost:8080/"
        },
        "id": "XJ25wmd2ZJ9a",
        "outputId": "ecf2d465-c986-41c5-d376-0ea0f453e482"
      },
      "execution_count": 26,
      "outputs": [
        {
          "output_type": "execute_result",
          "data": {
            "text/plain": [
              "0.9817896650799789"
            ]
          },
          "metadata": {},
          "execution_count": 26
        }
      ]
    },
    {
      "cell_type": "code",
      "source": [
        "trf_s=RandomForestRegressor(n_estimators=80,min_samples_split=2,min_samples_leaf=1,max_samples=0.5,max_features=0.6,max_depth=None,bootstrap=True)"
      ],
      "metadata": {
        "id": "RtokhZciahhD"
      },
      "execution_count": 30,
      "outputs": []
    },
    {
      "cell_type": "code",
      "source": [
        "pipe2=make_pipeline(trf1,trf2,trf_s)"
      ],
      "metadata": {
        "id": "M_j54GCsaJwX"
      },
      "execution_count": 31,
      "outputs": []
    },
    {
      "cell_type": "code",
      "source": [
        "pipe2.fit(X_train,Y_train)"
      ],
      "metadata": {
        "colab": {
          "base_uri": "https://localhost:8080/",
          "height": 288
        },
        "id": "bOQQDSAZaJzs",
        "outputId": "4d1b8fda-3a0d-444b-8dbd-f9af0a5c9d5a"
      },
      "execution_count": 32,
      "outputs": [
        {
          "output_type": "execute_result",
          "data": {
            "text/plain": [
              "Pipeline(steps=[('columntransformer-1',\n",
              "                 ColumnTransformer(remainder='passthrough',\n",
              "                                   transformers=[('trf1',\n",
              "                                                  OrdinalEncoder(categories=[['Fair',\n",
              "                                                                              'Good',\n",
              "                                                                              'Very '\n",
              "                                                                              'Good',\n",
              "                                                                              'Premium',\n",
              "                                                                              'Ideal'],\n",
              "                                                                             ['D',\n",
              "                                                                              'E',\n",
              "                                                                              'F',\n",
              "                                                                              'G',\n",
              "                                                                              'H',\n",
              "                                                                              'I',\n",
              "                                                                              'J'],\n",
              "                                                                             ['IF',\n",
              "                                                                              'VVS1',\n",
              "                                                                              'VVS2',\n",
              "                                                                              'VS1',\n",
              "                                                                              'VS2',\n",
              "                                                                              'SI1',\n",
              "                                                                              'SI2',\n",
              "                                                                              'I1']]),\n",
              "                                                  [1, 2, 3])])),\n",
              "                ('columntransformer-2',\n",
              "                 ColumnTransformer(transformers=[('trf2', StandardScaler(),\n",
              "                                                  slice(0, 10, None))])),\n",
              "                ('randomforestregressor',\n",
              "                 RandomForestRegressor(max_features=0.6, max_samples=0.5,\n",
              "                                       n_estimators=80))])"
            ],
            "text/html": [
              "<style>#sk-container-id-2 {color: black;background-color: white;}#sk-container-id-2 pre{padding: 0;}#sk-container-id-2 div.sk-toggleable {background-color: white;}#sk-container-id-2 label.sk-toggleable__label {cursor: pointer;display: block;width: 100%;margin-bottom: 0;padding: 0.3em;box-sizing: border-box;text-align: center;}#sk-container-id-2 label.sk-toggleable__label-arrow:before {content: \"▸\";float: left;margin-right: 0.25em;color: #696969;}#sk-container-id-2 label.sk-toggleable__label-arrow:hover:before {color: black;}#sk-container-id-2 div.sk-estimator:hover label.sk-toggleable__label-arrow:before {color: black;}#sk-container-id-2 div.sk-toggleable__content {max-height: 0;max-width: 0;overflow: hidden;text-align: left;background-color: #f0f8ff;}#sk-container-id-2 div.sk-toggleable__content pre {margin: 0.2em;color: black;border-radius: 0.25em;background-color: #f0f8ff;}#sk-container-id-2 input.sk-toggleable__control:checked~div.sk-toggleable__content {max-height: 200px;max-width: 100%;overflow: auto;}#sk-container-id-2 input.sk-toggleable__control:checked~label.sk-toggleable__label-arrow:before {content: \"▾\";}#sk-container-id-2 div.sk-estimator input.sk-toggleable__control:checked~label.sk-toggleable__label {background-color: #d4ebff;}#sk-container-id-2 div.sk-label input.sk-toggleable__control:checked~label.sk-toggleable__label {background-color: #d4ebff;}#sk-container-id-2 input.sk-hidden--visually {border: 0;clip: rect(1px 1px 1px 1px);clip: rect(1px, 1px, 1px, 1px);height: 1px;margin: -1px;overflow: hidden;padding: 0;position: absolute;width: 1px;}#sk-container-id-2 div.sk-estimator {font-family: monospace;background-color: #f0f8ff;border: 1px dotted black;border-radius: 0.25em;box-sizing: border-box;margin-bottom: 0.5em;}#sk-container-id-2 div.sk-estimator:hover {background-color: #d4ebff;}#sk-container-id-2 div.sk-parallel-item::after {content: \"\";width: 100%;border-bottom: 1px solid gray;flex-grow: 1;}#sk-container-id-2 div.sk-label:hover label.sk-toggleable__label {background-color: #d4ebff;}#sk-container-id-2 div.sk-serial::before {content: \"\";position: absolute;border-left: 1px solid gray;box-sizing: border-box;top: 0;bottom: 0;left: 50%;z-index: 0;}#sk-container-id-2 div.sk-serial {display: flex;flex-direction: column;align-items: center;background-color: white;padding-right: 0.2em;padding-left: 0.2em;position: relative;}#sk-container-id-2 div.sk-item {position: relative;z-index: 1;}#sk-container-id-2 div.sk-parallel {display: flex;align-items: stretch;justify-content: center;background-color: white;position: relative;}#sk-container-id-2 div.sk-item::before, #sk-container-id-2 div.sk-parallel-item::before {content: \"\";position: absolute;border-left: 1px solid gray;box-sizing: border-box;top: 0;bottom: 0;left: 50%;z-index: -1;}#sk-container-id-2 div.sk-parallel-item {display: flex;flex-direction: column;z-index: 1;position: relative;background-color: white;}#sk-container-id-2 div.sk-parallel-item:first-child::after {align-self: flex-end;width: 50%;}#sk-container-id-2 div.sk-parallel-item:last-child::after {align-self: flex-start;width: 50%;}#sk-container-id-2 div.sk-parallel-item:only-child::after {width: 0;}#sk-container-id-2 div.sk-dashed-wrapped {border: 1px dashed gray;margin: 0 0.4em 0.5em 0.4em;box-sizing: border-box;padding-bottom: 0.4em;background-color: white;}#sk-container-id-2 div.sk-label label {font-family: monospace;font-weight: bold;display: inline-block;line-height: 1.2em;}#sk-container-id-2 div.sk-label-container {text-align: center;}#sk-container-id-2 div.sk-container {/* jupyter's `normalize.less` sets `[hidden] { display: none; }` but bootstrap.min.css set `[hidden] { display: none !important; }` so we also need the `!important` here to be able to override the default hidden behavior on the sphinx rendered scikit-learn.org. See: https://github.com/scikit-learn/scikit-learn/issues/21755 */display: inline-block !important;position: relative;}#sk-container-id-2 div.sk-text-repr-fallback {display: none;}</style><div id=\"sk-container-id-2\" class=\"sk-top-container\"><div class=\"sk-text-repr-fallback\"><pre>Pipeline(steps=[(&#x27;columntransformer-1&#x27;,\n",
              "                 ColumnTransformer(remainder=&#x27;passthrough&#x27;,\n",
              "                                   transformers=[(&#x27;trf1&#x27;,\n",
              "                                                  OrdinalEncoder(categories=[[&#x27;Fair&#x27;,\n",
              "                                                                              &#x27;Good&#x27;,\n",
              "                                                                              &#x27;Very &#x27;\n",
              "                                                                              &#x27;Good&#x27;,\n",
              "                                                                              &#x27;Premium&#x27;,\n",
              "                                                                              &#x27;Ideal&#x27;],\n",
              "                                                                             [&#x27;D&#x27;,\n",
              "                                                                              &#x27;E&#x27;,\n",
              "                                                                              &#x27;F&#x27;,\n",
              "                                                                              &#x27;G&#x27;,\n",
              "                                                                              &#x27;H&#x27;,\n",
              "                                                                              &#x27;I&#x27;,\n",
              "                                                                              &#x27;J&#x27;],\n",
              "                                                                             [&#x27;IF&#x27;,\n",
              "                                                                              &#x27;VVS1&#x27;,\n",
              "                                                                              &#x27;VVS2&#x27;,\n",
              "                                                                              &#x27;VS1&#x27;,\n",
              "                                                                              &#x27;VS2&#x27;,\n",
              "                                                                              &#x27;SI1&#x27;,\n",
              "                                                                              &#x27;SI2&#x27;,\n",
              "                                                                              &#x27;I1&#x27;]]),\n",
              "                                                  [1, 2, 3])])),\n",
              "                (&#x27;columntransformer-2&#x27;,\n",
              "                 ColumnTransformer(transformers=[(&#x27;trf2&#x27;, StandardScaler(),\n",
              "                                                  slice(0, 10, None))])),\n",
              "                (&#x27;randomforestregressor&#x27;,\n",
              "                 RandomForestRegressor(max_features=0.6, max_samples=0.5,\n",
              "                                       n_estimators=80))])</pre><b>In a Jupyter environment, please rerun this cell to show the HTML representation or trust the notebook. <br />On GitHub, the HTML representation is unable to render, please try loading this page with nbviewer.org.</b></div><div class=\"sk-container\" hidden><div class=\"sk-item sk-dashed-wrapped\"><div class=\"sk-label-container\"><div class=\"sk-label sk-toggleable\"><input class=\"sk-toggleable__control sk-hidden--visually\" id=\"sk-estimator-id-12\" type=\"checkbox\" ><label for=\"sk-estimator-id-12\" class=\"sk-toggleable__label sk-toggleable__label-arrow\">Pipeline</label><div class=\"sk-toggleable__content\"><pre>Pipeline(steps=[(&#x27;columntransformer-1&#x27;,\n",
              "                 ColumnTransformer(remainder=&#x27;passthrough&#x27;,\n",
              "                                   transformers=[(&#x27;trf1&#x27;,\n",
              "                                                  OrdinalEncoder(categories=[[&#x27;Fair&#x27;,\n",
              "                                                                              &#x27;Good&#x27;,\n",
              "                                                                              &#x27;Very &#x27;\n",
              "                                                                              &#x27;Good&#x27;,\n",
              "                                                                              &#x27;Premium&#x27;,\n",
              "                                                                              &#x27;Ideal&#x27;],\n",
              "                                                                             [&#x27;D&#x27;,\n",
              "                                                                              &#x27;E&#x27;,\n",
              "                                                                              &#x27;F&#x27;,\n",
              "                                                                              &#x27;G&#x27;,\n",
              "                                                                              &#x27;H&#x27;,\n",
              "                                                                              &#x27;I&#x27;,\n",
              "                                                                              &#x27;J&#x27;],\n",
              "                                                                             [&#x27;IF&#x27;,\n",
              "                                                                              &#x27;VVS1&#x27;,\n",
              "                                                                              &#x27;VVS2&#x27;,\n",
              "                                                                              &#x27;VS1&#x27;,\n",
              "                                                                              &#x27;VS2&#x27;,\n",
              "                                                                              &#x27;SI1&#x27;,\n",
              "                                                                              &#x27;SI2&#x27;,\n",
              "                                                                              &#x27;I1&#x27;]]),\n",
              "                                                  [1, 2, 3])])),\n",
              "                (&#x27;columntransformer-2&#x27;,\n",
              "                 ColumnTransformer(transformers=[(&#x27;trf2&#x27;, StandardScaler(),\n",
              "                                                  slice(0, 10, None))])),\n",
              "                (&#x27;randomforestregressor&#x27;,\n",
              "                 RandomForestRegressor(max_features=0.6, max_samples=0.5,\n",
              "                                       n_estimators=80))])</pre></div></div></div><div class=\"sk-serial\"><div class=\"sk-item sk-dashed-wrapped\"><div class=\"sk-label-container\"><div class=\"sk-label sk-toggleable\"><input class=\"sk-toggleable__control sk-hidden--visually\" id=\"sk-estimator-id-13\" type=\"checkbox\" ><label for=\"sk-estimator-id-13\" class=\"sk-toggleable__label sk-toggleable__label-arrow\">columntransformer-1: ColumnTransformer</label><div class=\"sk-toggleable__content\"><pre>ColumnTransformer(remainder=&#x27;passthrough&#x27;,\n",
              "                  transformers=[(&#x27;trf1&#x27;,\n",
              "                                 OrdinalEncoder(categories=[[&#x27;Fair&#x27;, &#x27;Good&#x27;,\n",
              "                                                             &#x27;Very Good&#x27;,\n",
              "                                                             &#x27;Premium&#x27;,\n",
              "                                                             &#x27;Ideal&#x27;],\n",
              "                                                            [&#x27;D&#x27;, &#x27;E&#x27;, &#x27;F&#x27;, &#x27;G&#x27;,\n",
              "                                                             &#x27;H&#x27;, &#x27;I&#x27;, &#x27;J&#x27;],\n",
              "                                                            [&#x27;IF&#x27;, &#x27;VVS1&#x27;,\n",
              "                                                             &#x27;VVS2&#x27;, &#x27;VS1&#x27;,\n",
              "                                                             &#x27;VS2&#x27;, &#x27;SI1&#x27;,\n",
              "                                                             &#x27;SI2&#x27;, &#x27;I1&#x27;]]),\n",
              "                                 [1, 2, 3])])</pre></div></div></div><div class=\"sk-parallel\"><div class=\"sk-parallel-item\"><div class=\"sk-item\"><div class=\"sk-label-container\"><div class=\"sk-label sk-toggleable\"><input class=\"sk-toggleable__control sk-hidden--visually\" id=\"sk-estimator-id-14\" type=\"checkbox\" ><label for=\"sk-estimator-id-14\" class=\"sk-toggleable__label sk-toggleable__label-arrow\">trf1</label><div class=\"sk-toggleable__content\"><pre>[1, 2, 3]</pre></div></div></div><div class=\"sk-serial\"><div class=\"sk-item\"><div class=\"sk-estimator sk-toggleable\"><input class=\"sk-toggleable__control sk-hidden--visually\" id=\"sk-estimator-id-15\" type=\"checkbox\" ><label for=\"sk-estimator-id-15\" class=\"sk-toggleable__label sk-toggleable__label-arrow\">OrdinalEncoder</label><div class=\"sk-toggleable__content\"><pre>OrdinalEncoder(categories=[[&#x27;Fair&#x27;, &#x27;Good&#x27;, &#x27;Very Good&#x27;, &#x27;Premium&#x27;, &#x27;Ideal&#x27;],\n",
              "                           [&#x27;D&#x27;, &#x27;E&#x27;, &#x27;F&#x27;, &#x27;G&#x27;, &#x27;H&#x27;, &#x27;I&#x27;, &#x27;J&#x27;],\n",
              "                           [&#x27;IF&#x27;, &#x27;VVS1&#x27;, &#x27;VVS2&#x27;, &#x27;VS1&#x27;, &#x27;VS2&#x27;, &#x27;SI1&#x27;, &#x27;SI2&#x27;,\n",
              "                            &#x27;I1&#x27;]])</pre></div></div></div></div></div></div><div class=\"sk-parallel-item\"><div class=\"sk-item\"><div class=\"sk-label-container\"><div class=\"sk-label sk-toggleable\"><input class=\"sk-toggleable__control sk-hidden--visually\" id=\"sk-estimator-id-16\" type=\"checkbox\" ><label for=\"sk-estimator-id-16\" class=\"sk-toggleable__label sk-toggleable__label-arrow\">remainder</label><div class=\"sk-toggleable__content\"><pre>[&#x27;carat&#x27;, &#x27;depth&#x27;, &#x27;table&#x27;, &#x27;length&#x27;, &#x27;width&#x27;, &#x27;height&#x27;]</pre></div></div></div><div class=\"sk-serial\"><div class=\"sk-item\"><div class=\"sk-estimator sk-toggleable\"><input class=\"sk-toggleable__control sk-hidden--visually\" id=\"sk-estimator-id-17\" type=\"checkbox\" ><label for=\"sk-estimator-id-17\" class=\"sk-toggleable__label sk-toggleable__label-arrow\">passthrough</label><div class=\"sk-toggleable__content\"><pre>passthrough</pre></div></div></div></div></div></div></div></div><div class=\"sk-item sk-dashed-wrapped\"><div class=\"sk-label-container\"><div class=\"sk-label sk-toggleable\"><input class=\"sk-toggleable__control sk-hidden--visually\" id=\"sk-estimator-id-18\" type=\"checkbox\" ><label for=\"sk-estimator-id-18\" class=\"sk-toggleable__label sk-toggleable__label-arrow\">columntransformer-2: ColumnTransformer</label><div class=\"sk-toggleable__content\"><pre>ColumnTransformer(transformers=[(&#x27;trf2&#x27;, StandardScaler(), slice(0, 10, None))])</pre></div></div></div><div class=\"sk-parallel\"><div class=\"sk-parallel-item\"><div class=\"sk-item\"><div class=\"sk-label-container\"><div class=\"sk-label sk-toggleable\"><input class=\"sk-toggleable__control sk-hidden--visually\" id=\"sk-estimator-id-19\" type=\"checkbox\" ><label for=\"sk-estimator-id-19\" class=\"sk-toggleable__label sk-toggleable__label-arrow\">trf2</label><div class=\"sk-toggleable__content\"><pre>slice(0, 10, None)</pre></div></div></div><div class=\"sk-serial\"><div class=\"sk-item\"><div class=\"sk-estimator sk-toggleable\"><input class=\"sk-toggleable__control sk-hidden--visually\" id=\"sk-estimator-id-20\" type=\"checkbox\" ><label for=\"sk-estimator-id-20\" class=\"sk-toggleable__label sk-toggleable__label-arrow\">StandardScaler</label><div class=\"sk-toggleable__content\"><pre>StandardScaler()</pre></div></div></div></div></div></div></div></div><div class=\"sk-item\"><div class=\"sk-estimator sk-toggleable\"><input class=\"sk-toggleable__control sk-hidden--visually\" id=\"sk-estimator-id-21\" type=\"checkbox\" ><label for=\"sk-estimator-id-21\" class=\"sk-toggleable__label sk-toggleable__label-arrow\">RandomForestRegressor</label><div class=\"sk-toggleable__content\"><pre>RandomForestRegressor(max_features=0.6, max_samples=0.5, n_estimators=80)</pre></div></div></div></div></div></div></div>"
            ]
          },
          "metadata": {},
          "execution_count": 32
        }
      ]
    },
    {
      "cell_type": "code",
      "source": [
        "y_t=pipe2.predict(X_test)"
      ],
      "metadata": {
        "id": "xfz4YNSBaJ3E"
      },
      "execution_count": 33,
      "outputs": []
    },
    {
      "cell_type": "code",
      "source": [
        "r2_score(Y_test,y_t)"
      ],
      "metadata": {
        "colab": {
          "base_uri": "https://localhost:8080/"
        },
        "id": "03c4l_bEbTEc",
        "outputId": "f6d9b15d-446e-47d0-e1fb-e0f052e38077"
      },
      "execution_count": 34,
      "outputs": [
        {
          "output_type": "execute_result",
          "data": {
            "text/plain": [
              "0.9817510336727291"
            ]
          },
          "metadata": {},
          "execution_count": 34
        }
      ]
    },
    {
      "cell_type": "code",
      "source": [
        "test=np.array([2.0,\t\"Ideal\"\t,\"G\",\"SI2\",\t62.2\t,57.0\t,8.13,\t8.0,\t5.02],dtype=object).reshape(1,9)"
      ],
      "metadata": {
        "id": "0PUAslO2bbjC"
      },
      "execution_count": 35,
      "outputs": []
    },
    {
      "cell_type": "code",
      "source": [
        "pipe2.predict(test)"
      ],
      "metadata": {
        "colab": {
          "base_uri": "https://localhost:8080/"
        },
        "id": "kdNMa-RFbbmi",
        "outputId": "f3579264-ab95-4e4d-e08f-8f061399e79a"
      },
      "execution_count": 36,
      "outputs": [
        {
          "output_type": "execute_result",
          "data": {
            "text/plain": [
              "array([1235286.432])"
            ]
          },
          "metadata": {},
          "execution_count": 36
        }
      ]
    },
    {
      "cell_type": "code",
      "source": [
        "pickle.dump(pipe2,open('pipe2.pkl','wb'))"
      ],
      "metadata": {
        "id": "HBYbtPHLb098"
      },
      "execution_count": 47,
      "outputs": []
    },
    {
      "cell_type": "code",
      "source": [
        "# ON DECESISIONTREE----"
      ],
      "metadata": {
        "id": "jJoKjljFZKAv"
      },
      "execution_count": null,
      "outputs": []
    },
    {
      "cell_type": "markdown",
      "source": [
        "# New section"
      ],
      "metadata": {
        "id": "-E4Wwj-SZeMN"
      }
    },
    {
      "cell_type": "code",
      "source": [
        "trf1 = ColumnTransformer([\n",
        "    (\"trf1\", OrdinalEncoder(categories=[['Fair', 'Good', 'Very Good', 'Premium', 'Ideal'],\n",
        "                                        ['D', 'E', 'F', 'G', 'H', 'I', 'J'],\n",
        "                                        ['IF', 'VVS1', 'VVS2', 'VS1', 'VS2', 'SI1', 'SI2', 'I1']]), [1, 2, 3])\n",
        "], remainder='passthrough')\n",
        "trf2 = ColumnTransformer([(\"trf2\", StandardScaler(), slice(0, 10))])\n",
        "\n",
        "trf3=DecisionTreeRegressor(criterion=\"squared_error\",max_depth=8,max_features='auto',splitter='best')"
      ],
      "metadata": {
        "id": "B0wln1xuRZiN"
      },
      "execution_count": 37,
      "outputs": []
    },
    {
      "cell_type": "code",
      "source": [
        "pipe = make_pipeline(trf1,trf2,trf3)"
      ],
      "metadata": {
        "id": "XrskxnbaRezF"
      },
      "execution_count": 38,
      "outputs": []
    },
    {
      "cell_type": "code",
      "source": [
        "pipe"
      ],
      "metadata": {
        "colab": {
          "base_uri": "https://localhost:8080/",
          "height": 288
        },
        "id": "b_NwjxqygBU8",
        "outputId": "79de252e-da4f-49a5-d1f7-9d4f21ce6591"
      },
      "execution_count": 39,
      "outputs": [
        {
          "output_type": "execute_result",
          "data": {
            "text/plain": [
              "Pipeline(steps=[('columntransformer-1',\n",
              "                 ColumnTransformer(remainder='passthrough',\n",
              "                                   transformers=[('trf1',\n",
              "                                                  OrdinalEncoder(categories=[['Fair',\n",
              "                                                                              'Good',\n",
              "                                                                              'Very '\n",
              "                                                                              'Good',\n",
              "                                                                              'Premium',\n",
              "                                                                              'Ideal'],\n",
              "                                                                             ['D',\n",
              "                                                                              'E',\n",
              "                                                                              'F',\n",
              "                                                                              'G',\n",
              "                                                                              'H',\n",
              "                                                                              'I',\n",
              "                                                                              'J'],\n",
              "                                                                             ['IF',\n",
              "                                                                              'VVS1',\n",
              "                                                                              'VVS2',\n",
              "                                                                              'VS1',\n",
              "                                                                              'VS2',\n",
              "                                                                              'SI1',\n",
              "                                                                              'SI2',\n",
              "                                                                              'I1']]),\n",
              "                                                  [1, 2, 3])])),\n",
              "                ('columntransformer-2',\n",
              "                 ColumnTransformer(transformers=[('trf2', StandardScaler(),\n",
              "                                                  slice(0, 10, None))])),\n",
              "                ('decisiontreeregressor',\n",
              "                 DecisionTreeRegressor(max_depth=8, max_features='auto'))])"
            ],
            "text/html": [
              "<style>#sk-container-id-3 {color: black;background-color: white;}#sk-container-id-3 pre{padding: 0;}#sk-container-id-3 div.sk-toggleable {background-color: white;}#sk-container-id-3 label.sk-toggleable__label {cursor: pointer;display: block;width: 100%;margin-bottom: 0;padding: 0.3em;box-sizing: border-box;text-align: center;}#sk-container-id-3 label.sk-toggleable__label-arrow:before {content: \"▸\";float: left;margin-right: 0.25em;color: #696969;}#sk-container-id-3 label.sk-toggleable__label-arrow:hover:before {color: black;}#sk-container-id-3 div.sk-estimator:hover label.sk-toggleable__label-arrow:before {color: black;}#sk-container-id-3 div.sk-toggleable__content {max-height: 0;max-width: 0;overflow: hidden;text-align: left;background-color: #f0f8ff;}#sk-container-id-3 div.sk-toggleable__content pre {margin: 0.2em;color: black;border-radius: 0.25em;background-color: #f0f8ff;}#sk-container-id-3 input.sk-toggleable__control:checked~div.sk-toggleable__content {max-height: 200px;max-width: 100%;overflow: auto;}#sk-container-id-3 input.sk-toggleable__control:checked~label.sk-toggleable__label-arrow:before {content: \"▾\";}#sk-container-id-3 div.sk-estimator input.sk-toggleable__control:checked~label.sk-toggleable__label {background-color: #d4ebff;}#sk-container-id-3 div.sk-label input.sk-toggleable__control:checked~label.sk-toggleable__label {background-color: #d4ebff;}#sk-container-id-3 input.sk-hidden--visually {border: 0;clip: rect(1px 1px 1px 1px);clip: rect(1px, 1px, 1px, 1px);height: 1px;margin: -1px;overflow: hidden;padding: 0;position: absolute;width: 1px;}#sk-container-id-3 div.sk-estimator {font-family: monospace;background-color: #f0f8ff;border: 1px dotted black;border-radius: 0.25em;box-sizing: border-box;margin-bottom: 0.5em;}#sk-container-id-3 div.sk-estimator:hover {background-color: #d4ebff;}#sk-container-id-3 div.sk-parallel-item::after {content: \"\";width: 100%;border-bottom: 1px solid gray;flex-grow: 1;}#sk-container-id-3 div.sk-label:hover label.sk-toggleable__label {background-color: #d4ebff;}#sk-container-id-3 div.sk-serial::before {content: \"\";position: absolute;border-left: 1px solid gray;box-sizing: border-box;top: 0;bottom: 0;left: 50%;z-index: 0;}#sk-container-id-3 div.sk-serial {display: flex;flex-direction: column;align-items: center;background-color: white;padding-right: 0.2em;padding-left: 0.2em;position: relative;}#sk-container-id-3 div.sk-item {position: relative;z-index: 1;}#sk-container-id-3 div.sk-parallel {display: flex;align-items: stretch;justify-content: center;background-color: white;position: relative;}#sk-container-id-3 div.sk-item::before, #sk-container-id-3 div.sk-parallel-item::before {content: \"\";position: absolute;border-left: 1px solid gray;box-sizing: border-box;top: 0;bottom: 0;left: 50%;z-index: -1;}#sk-container-id-3 div.sk-parallel-item {display: flex;flex-direction: column;z-index: 1;position: relative;background-color: white;}#sk-container-id-3 div.sk-parallel-item:first-child::after {align-self: flex-end;width: 50%;}#sk-container-id-3 div.sk-parallel-item:last-child::after {align-self: flex-start;width: 50%;}#sk-container-id-3 div.sk-parallel-item:only-child::after {width: 0;}#sk-container-id-3 div.sk-dashed-wrapped {border: 1px dashed gray;margin: 0 0.4em 0.5em 0.4em;box-sizing: border-box;padding-bottom: 0.4em;background-color: white;}#sk-container-id-3 div.sk-label label {font-family: monospace;font-weight: bold;display: inline-block;line-height: 1.2em;}#sk-container-id-3 div.sk-label-container {text-align: center;}#sk-container-id-3 div.sk-container {/* jupyter's `normalize.less` sets `[hidden] { display: none; }` but bootstrap.min.css set `[hidden] { display: none !important; }` so we also need the `!important` here to be able to override the default hidden behavior on the sphinx rendered scikit-learn.org. See: https://github.com/scikit-learn/scikit-learn/issues/21755 */display: inline-block !important;position: relative;}#sk-container-id-3 div.sk-text-repr-fallback {display: none;}</style><div id=\"sk-container-id-3\" class=\"sk-top-container\"><div class=\"sk-text-repr-fallback\"><pre>Pipeline(steps=[(&#x27;columntransformer-1&#x27;,\n",
              "                 ColumnTransformer(remainder=&#x27;passthrough&#x27;,\n",
              "                                   transformers=[(&#x27;trf1&#x27;,\n",
              "                                                  OrdinalEncoder(categories=[[&#x27;Fair&#x27;,\n",
              "                                                                              &#x27;Good&#x27;,\n",
              "                                                                              &#x27;Very &#x27;\n",
              "                                                                              &#x27;Good&#x27;,\n",
              "                                                                              &#x27;Premium&#x27;,\n",
              "                                                                              &#x27;Ideal&#x27;],\n",
              "                                                                             [&#x27;D&#x27;,\n",
              "                                                                              &#x27;E&#x27;,\n",
              "                                                                              &#x27;F&#x27;,\n",
              "                                                                              &#x27;G&#x27;,\n",
              "                                                                              &#x27;H&#x27;,\n",
              "                                                                              &#x27;I&#x27;,\n",
              "                                                                              &#x27;J&#x27;],\n",
              "                                                                             [&#x27;IF&#x27;,\n",
              "                                                                              &#x27;VVS1&#x27;,\n",
              "                                                                              &#x27;VVS2&#x27;,\n",
              "                                                                              &#x27;VS1&#x27;,\n",
              "                                                                              &#x27;VS2&#x27;,\n",
              "                                                                              &#x27;SI1&#x27;,\n",
              "                                                                              &#x27;SI2&#x27;,\n",
              "                                                                              &#x27;I1&#x27;]]),\n",
              "                                                  [1, 2, 3])])),\n",
              "                (&#x27;columntransformer-2&#x27;,\n",
              "                 ColumnTransformer(transformers=[(&#x27;trf2&#x27;, StandardScaler(),\n",
              "                                                  slice(0, 10, None))])),\n",
              "                (&#x27;decisiontreeregressor&#x27;,\n",
              "                 DecisionTreeRegressor(max_depth=8, max_features=&#x27;auto&#x27;))])</pre><b>In a Jupyter environment, please rerun this cell to show the HTML representation or trust the notebook. <br />On GitHub, the HTML representation is unable to render, please try loading this page with nbviewer.org.</b></div><div class=\"sk-container\" hidden><div class=\"sk-item sk-dashed-wrapped\"><div class=\"sk-label-container\"><div class=\"sk-label sk-toggleable\"><input class=\"sk-toggleable__control sk-hidden--visually\" id=\"sk-estimator-id-22\" type=\"checkbox\" ><label for=\"sk-estimator-id-22\" class=\"sk-toggleable__label sk-toggleable__label-arrow\">Pipeline</label><div class=\"sk-toggleable__content\"><pre>Pipeline(steps=[(&#x27;columntransformer-1&#x27;,\n",
              "                 ColumnTransformer(remainder=&#x27;passthrough&#x27;,\n",
              "                                   transformers=[(&#x27;trf1&#x27;,\n",
              "                                                  OrdinalEncoder(categories=[[&#x27;Fair&#x27;,\n",
              "                                                                              &#x27;Good&#x27;,\n",
              "                                                                              &#x27;Very &#x27;\n",
              "                                                                              &#x27;Good&#x27;,\n",
              "                                                                              &#x27;Premium&#x27;,\n",
              "                                                                              &#x27;Ideal&#x27;],\n",
              "                                                                             [&#x27;D&#x27;,\n",
              "                                                                              &#x27;E&#x27;,\n",
              "                                                                              &#x27;F&#x27;,\n",
              "                                                                              &#x27;G&#x27;,\n",
              "                                                                              &#x27;H&#x27;,\n",
              "                                                                              &#x27;I&#x27;,\n",
              "                                                                              &#x27;J&#x27;],\n",
              "                                                                             [&#x27;IF&#x27;,\n",
              "                                                                              &#x27;VVS1&#x27;,\n",
              "                                                                              &#x27;VVS2&#x27;,\n",
              "                                                                              &#x27;VS1&#x27;,\n",
              "                                                                              &#x27;VS2&#x27;,\n",
              "                                                                              &#x27;SI1&#x27;,\n",
              "                                                                              &#x27;SI2&#x27;,\n",
              "                                                                              &#x27;I1&#x27;]]),\n",
              "                                                  [1, 2, 3])])),\n",
              "                (&#x27;columntransformer-2&#x27;,\n",
              "                 ColumnTransformer(transformers=[(&#x27;trf2&#x27;, StandardScaler(),\n",
              "                                                  slice(0, 10, None))])),\n",
              "                (&#x27;decisiontreeregressor&#x27;,\n",
              "                 DecisionTreeRegressor(max_depth=8, max_features=&#x27;auto&#x27;))])</pre></div></div></div><div class=\"sk-serial\"><div class=\"sk-item sk-dashed-wrapped\"><div class=\"sk-label-container\"><div class=\"sk-label sk-toggleable\"><input class=\"sk-toggleable__control sk-hidden--visually\" id=\"sk-estimator-id-23\" type=\"checkbox\" ><label for=\"sk-estimator-id-23\" class=\"sk-toggleable__label sk-toggleable__label-arrow\">columntransformer-1: ColumnTransformer</label><div class=\"sk-toggleable__content\"><pre>ColumnTransformer(remainder=&#x27;passthrough&#x27;,\n",
              "                  transformers=[(&#x27;trf1&#x27;,\n",
              "                                 OrdinalEncoder(categories=[[&#x27;Fair&#x27;, &#x27;Good&#x27;,\n",
              "                                                             &#x27;Very Good&#x27;,\n",
              "                                                             &#x27;Premium&#x27;,\n",
              "                                                             &#x27;Ideal&#x27;],\n",
              "                                                            [&#x27;D&#x27;, &#x27;E&#x27;, &#x27;F&#x27;, &#x27;G&#x27;,\n",
              "                                                             &#x27;H&#x27;, &#x27;I&#x27;, &#x27;J&#x27;],\n",
              "                                                            [&#x27;IF&#x27;, &#x27;VVS1&#x27;,\n",
              "                                                             &#x27;VVS2&#x27;, &#x27;VS1&#x27;,\n",
              "                                                             &#x27;VS2&#x27;, &#x27;SI1&#x27;,\n",
              "                                                             &#x27;SI2&#x27;, &#x27;I1&#x27;]]),\n",
              "                                 [1, 2, 3])])</pre></div></div></div><div class=\"sk-parallel\"><div class=\"sk-parallel-item\"><div class=\"sk-item\"><div class=\"sk-label-container\"><div class=\"sk-label sk-toggleable\"><input class=\"sk-toggleable__control sk-hidden--visually\" id=\"sk-estimator-id-24\" type=\"checkbox\" ><label for=\"sk-estimator-id-24\" class=\"sk-toggleable__label sk-toggleable__label-arrow\">trf1</label><div class=\"sk-toggleable__content\"><pre>[1, 2, 3]</pre></div></div></div><div class=\"sk-serial\"><div class=\"sk-item\"><div class=\"sk-estimator sk-toggleable\"><input class=\"sk-toggleable__control sk-hidden--visually\" id=\"sk-estimator-id-25\" type=\"checkbox\" ><label for=\"sk-estimator-id-25\" class=\"sk-toggleable__label sk-toggleable__label-arrow\">OrdinalEncoder</label><div class=\"sk-toggleable__content\"><pre>OrdinalEncoder(categories=[[&#x27;Fair&#x27;, &#x27;Good&#x27;, &#x27;Very Good&#x27;, &#x27;Premium&#x27;, &#x27;Ideal&#x27;],\n",
              "                           [&#x27;D&#x27;, &#x27;E&#x27;, &#x27;F&#x27;, &#x27;G&#x27;, &#x27;H&#x27;, &#x27;I&#x27;, &#x27;J&#x27;],\n",
              "                           [&#x27;IF&#x27;, &#x27;VVS1&#x27;, &#x27;VVS2&#x27;, &#x27;VS1&#x27;, &#x27;VS2&#x27;, &#x27;SI1&#x27;, &#x27;SI2&#x27;,\n",
              "                            &#x27;I1&#x27;]])</pre></div></div></div></div></div></div><div class=\"sk-parallel-item\"><div class=\"sk-item\"><div class=\"sk-label-container\"><div class=\"sk-label sk-toggleable\"><input class=\"sk-toggleable__control sk-hidden--visually\" id=\"sk-estimator-id-26\" type=\"checkbox\" ><label for=\"sk-estimator-id-26\" class=\"sk-toggleable__label sk-toggleable__label-arrow\">remainder</label><div class=\"sk-toggleable__content\"><pre></pre></div></div></div><div class=\"sk-serial\"><div class=\"sk-item\"><div class=\"sk-estimator sk-toggleable\"><input class=\"sk-toggleable__control sk-hidden--visually\" id=\"sk-estimator-id-27\" type=\"checkbox\" ><label for=\"sk-estimator-id-27\" class=\"sk-toggleable__label sk-toggleable__label-arrow\">passthrough</label><div class=\"sk-toggleable__content\"><pre>passthrough</pre></div></div></div></div></div></div></div></div><div class=\"sk-item sk-dashed-wrapped\"><div class=\"sk-label-container\"><div class=\"sk-label sk-toggleable\"><input class=\"sk-toggleable__control sk-hidden--visually\" id=\"sk-estimator-id-28\" type=\"checkbox\" ><label for=\"sk-estimator-id-28\" class=\"sk-toggleable__label sk-toggleable__label-arrow\">columntransformer-2: ColumnTransformer</label><div class=\"sk-toggleable__content\"><pre>ColumnTransformer(transformers=[(&#x27;trf2&#x27;, StandardScaler(), slice(0, 10, None))])</pre></div></div></div><div class=\"sk-parallel\"><div class=\"sk-parallel-item\"><div class=\"sk-item\"><div class=\"sk-label-container\"><div class=\"sk-label sk-toggleable\"><input class=\"sk-toggleable__control sk-hidden--visually\" id=\"sk-estimator-id-29\" type=\"checkbox\" ><label for=\"sk-estimator-id-29\" class=\"sk-toggleable__label sk-toggleable__label-arrow\">trf2</label><div class=\"sk-toggleable__content\"><pre>slice(0, 10, None)</pre></div></div></div><div class=\"sk-serial\"><div class=\"sk-item\"><div class=\"sk-estimator sk-toggleable\"><input class=\"sk-toggleable__control sk-hidden--visually\" id=\"sk-estimator-id-30\" type=\"checkbox\" ><label for=\"sk-estimator-id-30\" class=\"sk-toggleable__label sk-toggleable__label-arrow\">StandardScaler</label><div class=\"sk-toggleable__content\"><pre>StandardScaler()</pre></div></div></div></div></div></div></div></div><div class=\"sk-item\"><div class=\"sk-estimator sk-toggleable\"><input class=\"sk-toggleable__control sk-hidden--visually\" id=\"sk-estimator-id-31\" type=\"checkbox\" ><label for=\"sk-estimator-id-31\" class=\"sk-toggleable__label sk-toggleable__label-arrow\">DecisionTreeRegressor</label><div class=\"sk-toggleable__content\"><pre>DecisionTreeRegressor(max_depth=8, max_features=&#x27;auto&#x27;)</pre></div></div></div></div></div></div></div>"
            ]
          },
          "metadata": {},
          "execution_count": 39
        }
      ]
    },
    {
      "cell_type": "code",
      "source": [
        "pipe.fit(X_train,Y_train)"
      ],
      "metadata": {
        "colab": {
          "base_uri": "https://localhost:8080/",
          "height": 288
        },
        "id": "ed0n_mybRtnJ",
        "outputId": "6068b8b4-b107-4064-d913-4b3b4ab3ebde"
      },
      "execution_count": 40,
      "outputs": [
        {
          "output_type": "execute_result",
          "data": {
            "text/plain": [
              "Pipeline(steps=[('columntransformer-1',\n",
              "                 ColumnTransformer(remainder='passthrough',\n",
              "                                   transformers=[('trf1',\n",
              "                                                  OrdinalEncoder(categories=[['Fair',\n",
              "                                                                              'Good',\n",
              "                                                                              'Very '\n",
              "                                                                              'Good',\n",
              "                                                                              'Premium',\n",
              "                                                                              'Ideal'],\n",
              "                                                                             ['D',\n",
              "                                                                              'E',\n",
              "                                                                              'F',\n",
              "                                                                              'G',\n",
              "                                                                              'H',\n",
              "                                                                              'I',\n",
              "                                                                              'J'],\n",
              "                                                                             ['IF',\n",
              "                                                                              'VVS1',\n",
              "                                                                              'VVS2',\n",
              "                                                                              'VS1',\n",
              "                                                                              'VS2',\n",
              "                                                                              'SI1',\n",
              "                                                                              'SI2',\n",
              "                                                                              'I1']]),\n",
              "                                                  [1, 2, 3])])),\n",
              "                ('columntransformer-2',\n",
              "                 ColumnTransformer(transformers=[('trf2', StandardScaler(),\n",
              "                                                  slice(0, 10, None))])),\n",
              "                ('decisiontreeregressor',\n",
              "                 DecisionTreeRegressor(max_depth=8, max_features='auto'))])"
            ],
            "text/html": [
              "<style>#sk-container-id-4 {color: black;background-color: white;}#sk-container-id-4 pre{padding: 0;}#sk-container-id-4 div.sk-toggleable {background-color: white;}#sk-container-id-4 label.sk-toggleable__label {cursor: pointer;display: block;width: 100%;margin-bottom: 0;padding: 0.3em;box-sizing: border-box;text-align: center;}#sk-container-id-4 label.sk-toggleable__label-arrow:before {content: \"▸\";float: left;margin-right: 0.25em;color: #696969;}#sk-container-id-4 label.sk-toggleable__label-arrow:hover:before {color: black;}#sk-container-id-4 div.sk-estimator:hover label.sk-toggleable__label-arrow:before {color: black;}#sk-container-id-4 div.sk-toggleable__content {max-height: 0;max-width: 0;overflow: hidden;text-align: left;background-color: #f0f8ff;}#sk-container-id-4 div.sk-toggleable__content pre {margin: 0.2em;color: black;border-radius: 0.25em;background-color: #f0f8ff;}#sk-container-id-4 input.sk-toggleable__control:checked~div.sk-toggleable__content {max-height: 200px;max-width: 100%;overflow: auto;}#sk-container-id-4 input.sk-toggleable__control:checked~label.sk-toggleable__label-arrow:before {content: \"▾\";}#sk-container-id-4 div.sk-estimator input.sk-toggleable__control:checked~label.sk-toggleable__label {background-color: #d4ebff;}#sk-container-id-4 div.sk-label input.sk-toggleable__control:checked~label.sk-toggleable__label {background-color: #d4ebff;}#sk-container-id-4 input.sk-hidden--visually {border: 0;clip: rect(1px 1px 1px 1px);clip: rect(1px, 1px, 1px, 1px);height: 1px;margin: -1px;overflow: hidden;padding: 0;position: absolute;width: 1px;}#sk-container-id-4 div.sk-estimator {font-family: monospace;background-color: #f0f8ff;border: 1px dotted black;border-radius: 0.25em;box-sizing: border-box;margin-bottom: 0.5em;}#sk-container-id-4 div.sk-estimator:hover {background-color: #d4ebff;}#sk-container-id-4 div.sk-parallel-item::after {content: \"\";width: 100%;border-bottom: 1px solid gray;flex-grow: 1;}#sk-container-id-4 div.sk-label:hover label.sk-toggleable__label {background-color: #d4ebff;}#sk-container-id-4 div.sk-serial::before {content: \"\";position: absolute;border-left: 1px solid gray;box-sizing: border-box;top: 0;bottom: 0;left: 50%;z-index: 0;}#sk-container-id-4 div.sk-serial {display: flex;flex-direction: column;align-items: center;background-color: white;padding-right: 0.2em;padding-left: 0.2em;position: relative;}#sk-container-id-4 div.sk-item {position: relative;z-index: 1;}#sk-container-id-4 div.sk-parallel {display: flex;align-items: stretch;justify-content: center;background-color: white;position: relative;}#sk-container-id-4 div.sk-item::before, #sk-container-id-4 div.sk-parallel-item::before {content: \"\";position: absolute;border-left: 1px solid gray;box-sizing: border-box;top: 0;bottom: 0;left: 50%;z-index: -1;}#sk-container-id-4 div.sk-parallel-item {display: flex;flex-direction: column;z-index: 1;position: relative;background-color: white;}#sk-container-id-4 div.sk-parallel-item:first-child::after {align-self: flex-end;width: 50%;}#sk-container-id-4 div.sk-parallel-item:last-child::after {align-self: flex-start;width: 50%;}#sk-container-id-4 div.sk-parallel-item:only-child::after {width: 0;}#sk-container-id-4 div.sk-dashed-wrapped {border: 1px dashed gray;margin: 0 0.4em 0.5em 0.4em;box-sizing: border-box;padding-bottom: 0.4em;background-color: white;}#sk-container-id-4 div.sk-label label {font-family: monospace;font-weight: bold;display: inline-block;line-height: 1.2em;}#sk-container-id-4 div.sk-label-container {text-align: center;}#sk-container-id-4 div.sk-container {/* jupyter's `normalize.less` sets `[hidden] { display: none; }` but bootstrap.min.css set `[hidden] { display: none !important; }` so we also need the `!important` here to be able to override the default hidden behavior on the sphinx rendered scikit-learn.org. See: https://github.com/scikit-learn/scikit-learn/issues/21755 */display: inline-block !important;position: relative;}#sk-container-id-4 div.sk-text-repr-fallback {display: none;}</style><div id=\"sk-container-id-4\" class=\"sk-top-container\"><div class=\"sk-text-repr-fallback\"><pre>Pipeline(steps=[(&#x27;columntransformer-1&#x27;,\n",
              "                 ColumnTransformer(remainder=&#x27;passthrough&#x27;,\n",
              "                                   transformers=[(&#x27;trf1&#x27;,\n",
              "                                                  OrdinalEncoder(categories=[[&#x27;Fair&#x27;,\n",
              "                                                                              &#x27;Good&#x27;,\n",
              "                                                                              &#x27;Very &#x27;\n",
              "                                                                              &#x27;Good&#x27;,\n",
              "                                                                              &#x27;Premium&#x27;,\n",
              "                                                                              &#x27;Ideal&#x27;],\n",
              "                                                                             [&#x27;D&#x27;,\n",
              "                                                                              &#x27;E&#x27;,\n",
              "                                                                              &#x27;F&#x27;,\n",
              "                                                                              &#x27;G&#x27;,\n",
              "                                                                              &#x27;H&#x27;,\n",
              "                                                                              &#x27;I&#x27;,\n",
              "                                                                              &#x27;J&#x27;],\n",
              "                                                                             [&#x27;IF&#x27;,\n",
              "                                                                              &#x27;VVS1&#x27;,\n",
              "                                                                              &#x27;VVS2&#x27;,\n",
              "                                                                              &#x27;VS1&#x27;,\n",
              "                                                                              &#x27;VS2&#x27;,\n",
              "                                                                              &#x27;SI1&#x27;,\n",
              "                                                                              &#x27;SI2&#x27;,\n",
              "                                                                              &#x27;I1&#x27;]]),\n",
              "                                                  [1, 2, 3])])),\n",
              "                (&#x27;columntransformer-2&#x27;,\n",
              "                 ColumnTransformer(transformers=[(&#x27;trf2&#x27;, StandardScaler(),\n",
              "                                                  slice(0, 10, None))])),\n",
              "                (&#x27;decisiontreeregressor&#x27;,\n",
              "                 DecisionTreeRegressor(max_depth=8, max_features=&#x27;auto&#x27;))])</pre><b>In a Jupyter environment, please rerun this cell to show the HTML representation or trust the notebook. <br />On GitHub, the HTML representation is unable to render, please try loading this page with nbviewer.org.</b></div><div class=\"sk-container\" hidden><div class=\"sk-item sk-dashed-wrapped\"><div class=\"sk-label-container\"><div class=\"sk-label sk-toggleable\"><input class=\"sk-toggleable__control sk-hidden--visually\" id=\"sk-estimator-id-32\" type=\"checkbox\" ><label for=\"sk-estimator-id-32\" class=\"sk-toggleable__label sk-toggleable__label-arrow\">Pipeline</label><div class=\"sk-toggleable__content\"><pre>Pipeline(steps=[(&#x27;columntransformer-1&#x27;,\n",
              "                 ColumnTransformer(remainder=&#x27;passthrough&#x27;,\n",
              "                                   transformers=[(&#x27;trf1&#x27;,\n",
              "                                                  OrdinalEncoder(categories=[[&#x27;Fair&#x27;,\n",
              "                                                                              &#x27;Good&#x27;,\n",
              "                                                                              &#x27;Very &#x27;\n",
              "                                                                              &#x27;Good&#x27;,\n",
              "                                                                              &#x27;Premium&#x27;,\n",
              "                                                                              &#x27;Ideal&#x27;],\n",
              "                                                                             [&#x27;D&#x27;,\n",
              "                                                                              &#x27;E&#x27;,\n",
              "                                                                              &#x27;F&#x27;,\n",
              "                                                                              &#x27;G&#x27;,\n",
              "                                                                              &#x27;H&#x27;,\n",
              "                                                                              &#x27;I&#x27;,\n",
              "                                                                              &#x27;J&#x27;],\n",
              "                                                                             [&#x27;IF&#x27;,\n",
              "                                                                              &#x27;VVS1&#x27;,\n",
              "                                                                              &#x27;VVS2&#x27;,\n",
              "                                                                              &#x27;VS1&#x27;,\n",
              "                                                                              &#x27;VS2&#x27;,\n",
              "                                                                              &#x27;SI1&#x27;,\n",
              "                                                                              &#x27;SI2&#x27;,\n",
              "                                                                              &#x27;I1&#x27;]]),\n",
              "                                                  [1, 2, 3])])),\n",
              "                (&#x27;columntransformer-2&#x27;,\n",
              "                 ColumnTransformer(transformers=[(&#x27;trf2&#x27;, StandardScaler(),\n",
              "                                                  slice(0, 10, None))])),\n",
              "                (&#x27;decisiontreeregressor&#x27;,\n",
              "                 DecisionTreeRegressor(max_depth=8, max_features=&#x27;auto&#x27;))])</pre></div></div></div><div class=\"sk-serial\"><div class=\"sk-item sk-dashed-wrapped\"><div class=\"sk-label-container\"><div class=\"sk-label sk-toggleable\"><input class=\"sk-toggleable__control sk-hidden--visually\" id=\"sk-estimator-id-33\" type=\"checkbox\" ><label for=\"sk-estimator-id-33\" class=\"sk-toggleable__label sk-toggleable__label-arrow\">columntransformer-1: ColumnTransformer</label><div class=\"sk-toggleable__content\"><pre>ColumnTransformer(remainder=&#x27;passthrough&#x27;,\n",
              "                  transformers=[(&#x27;trf1&#x27;,\n",
              "                                 OrdinalEncoder(categories=[[&#x27;Fair&#x27;, &#x27;Good&#x27;,\n",
              "                                                             &#x27;Very Good&#x27;,\n",
              "                                                             &#x27;Premium&#x27;,\n",
              "                                                             &#x27;Ideal&#x27;],\n",
              "                                                            [&#x27;D&#x27;, &#x27;E&#x27;, &#x27;F&#x27;, &#x27;G&#x27;,\n",
              "                                                             &#x27;H&#x27;, &#x27;I&#x27;, &#x27;J&#x27;],\n",
              "                                                            [&#x27;IF&#x27;, &#x27;VVS1&#x27;,\n",
              "                                                             &#x27;VVS2&#x27;, &#x27;VS1&#x27;,\n",
              "                                                             &#x27;VS2&#x27;, &#x27;SI1&#x27;,\n",
              "                                                             &#x27;SI2&#x27;, &#x27;I1&#x27;]]),\n",
              "                                 [1, 2, 3])])</pre></div></div></div><div class=\"sk-parallel\"><div class=\"sk-parallel-item\"><div class=\"sk-item\"><div class=\"sk-label-container\"><div class=\"sk-label sk-toggleable\"><input class=\"sk-toggleable__control sk-hidden--visually\" id=\"sk-estimator-id-34\" type=\"checkbox\" ><label for=\"sk-estimator-id-34\" class=\"sk-toggleable__label sk-toggleable__label-arrow\">trf1</label><div class=\"sk-toggleable__content\"><pre>[1, 2, 3]</pre></div></div></div><div class=\"sk-serial\"><div class=\"sk-item\"><div class=\"sk-estimator sk-toggleable\"><input class=\"sk-toggleable__control sk-hidden--visually\" id=\"sk-estimator-id-35\" type=\"checkbox\" ><label for=\"sk-estimator-id-35\" class=\"sk-toggleable__label sk-toggleable__label-arrow\">OrdinalEncoder</label><div class=\"sk-toggleable__content\"><pre>OrdinalEncoder(categories=[[&#x27;Fair&#x27;, &#x27;Good&#x27;, &#x27;Very Good&#x27;, &#x27;Premium&#x27;, &#x27;Ideal&#x27;],\n",
              "                           [&#x27;D&#x27;, &#x27;E&#x27;, &#x27;F&#x27;, &#x27;G&#x27;, &#x27;H&#x27;, &#x27;I&#x27;, &#x27;J&#x27;],\n",
              "                           [&#x27;IF&#x27;, &#x27;VVS1&#x27;, &#x27;VVS2&#x27;, &#x27;VS1&#x27;, &#x27;VS2&#x27;, &#x27;SI1&#x27;, &#x27;SI2&#x27;,\n",
              "                            &#x27;I1&#x27;]])</pre></div></div></div></div></div></div><div class=\"sk-parallel-item\"><div class=\"sk-item\"><div class=\"sk-label-container\"><div class=\"sk-label sk-toggleable\"><input class=\"sk-toggleable__control sk-hidden--visually\" id=\"sk-estimator-id-36\" type=\"checkbox\" ><label for=\"sk-estimator-id-36\" class=\"sk-toggleable__label sk-toggleable__label-arrow\">remainder</label><div class=\"sk-toggleable__content\"><pre>[&#x27;carat&#x27;, &#x27;depth&#x27;, &#x27;table&#x27;, &#x27;length&#x27;, &#x27;width&#x27;, &#x27;height&#x27;]</pre></div></div></div><div class=\"sk-serial\"><div class=\"sk-item\"><div class=\"sk-estimator sk-toggleable\"><input class=\"sk-toggleable__control sk-hidden--visually\" id=\"sk-estimator-id-37\" type=\"checkbox\" ><label for=\"sk-estimator-id-37\" class=\"sk-toggleable__label sk-toggleable__label-arrow\">passthrough</label><div class=\"sk-toggleable__content\"><pre>passthrough</pre></div></div></div></div></div></div></div></div><div class=\"sk-item sk-dashed-wrapped\"><div class=\"sk-label-container\"><div class=\"sk-label sk-toggleable\"><input class=\"sk-toggleable__control sk-hidden--visually\" id=\"sk-estimator-id-38\" type=\"checkbox\" ><label for=\"sk-estimator-id-38\" class=\"sk-toggleable__label sk-toggleable__label-arrow\">columntransformer-2: ColumnTransformer</label><div class=\"sk-toggleable__content\"><pre>ColumnTransformer(transformers=[(&#x27;trf2&#x27;, StandardScaler(), slice(0, 10, None))])</pre></div></div></div><div class=\"sk-parallel\"><div class=\"sk-parallel-item\"><div class=\"sk-item\"><div class=\"sk-label-container\"><div class=\"sk-label sk-toggleable\"><input class=\"sk-toggleable__control sk-hidden--visually\" id=\"sk-estimator-id-39\" type=\"checkbox\" ><label for=\"sk-estimator-id-39\" class=\"sk-toggleable__label sk-toggleable__label-arrow\">trf2</label><div class=\"sk-toggleable__content\"><pre>slice(0, 10, None)</pre></div></div></div><div class=\"sk-serial\"><div class=\"sk-item\"><div class=\"sk-estimator sk-toggleable\"><input class=\"sk-toggleable__control sk-hidden--visually\" id=\"sk-estimator-id-40\" type=\"checkbox\" ><label for=\"sk-estimator-id-40\" class=\"sk-toggleable__label sk-toggleable__label-arrow\">StandardScaler</label><div class=\"sk-toggleable__content\"><pre>StandardScaler()</pre></div></div></div></div></div></div></div></div><div class=\"sk-item\"><div class=\"sk-estimator sk-toggleable\"><input class=\"sk-toggleable__control sk-hidden--visually\" id=\"sk-estimator-id-41\" type=\"checkbox\" ><label for=\"sk-estimator-id-41\" class=\"sk-toggleable__label sk-toggleable__label-arrow\">DecisionTreeRegressor</label><div class=\"sk-toggleable__content\"><pre>DecisionTreeRegressor(max_depth=8, max_features=&#x27;auto&#x27;)</pre></div></div></div></div></div></div></div>"
            ]
          },
          "metadata": {},
          "execution_count": 40
        }
      ]
    },
    {
      "cell_type": "code",
      "source": [
        "y_pred=pipe.predict(X_test)"
      ],
      "metadata": {
        "id": "qE4G721GeUyW"
      },
      "execution_count": 41,
      "outputs": []
    },
    {
      "cell_type": "code",
      "source": [
        "r2_score(y_pred,Y_test)"
      ],
      "metadata": {
        "colab": {
          "base_uri": "https://localhost:8080/"
        },
        "id": "Dmr9NiKJeU0d",
        "outputId": "980cc93a-7367-4c31-b57c-aa7feabd9343"
      },
      "execution_count": 42,
      "outputs": [
        {
          "output_type": "execute_result",
          "data": {
            "text/plain": [
              "0.9688217531834243"
            ]
          },
          "metadata": {},
          "execution_count": 42
        }
      ]
    },
    {
      "cell_type": "code",
      "source": [
        "pipe.set_output()"
      ],
      "metadata": {
        "colab": {
          "base_uri": "https://localhost:8080/",
          "height": 288
        },
        "id": "u3d7mrk3hhqW",
        "outputId": "e4f2afe8-3a71-4ba6-d5d2-7fecdf7e3f8d"
      },
      "execution_count": 43,
      "outputs": [
        {
          "output_type": "execute_result",
          "data": {
            "text/plain": [
              "Pipeline(steps=[('columntransformer-1',\n",
              "                 ColumnTransformer(remainder='passthrough',\n",
              "                                   transformers=[('trf1',\n",
              "                                                  OrdinalEncoder(categories=[['Fair',\n",
              "                                                                              'Good',\n",
              "                                                                              'Very '\n",
              "                                                                              'Good',\n",
              "                                                                              'Premium',\n",
              "                                                                              'Ideal'],\n",
              "                                                                             ['D',\n",
              "                                                                              'E',\n",
              "                                                                              'F',\n",
              "                                                                              'G',\n",
              "                                                                              'H',\n",
              "                                                                              'I',\n",
              "                                                                              'J'],\n",
              "                                                                             ['IF',\n",
              "                                                                              'VVS1',\n",
              "                                                                              'VVS2',\n",
              "                                                                              'VS1',\n",
              "                                                                              'VS2',\n",
              "                                                                              'SI1',\n",
              "                                                                              'SI2',\n",
              "                                                                              'I1']]),\n",
              "                                                  [1, 2, 3])])),\n",
              "                ('columntransformer-2',\n",
              "                 ColumnTransformer(transformers=[('trf2', StandardScaler(),\n",
              "                                                  slice(0, 10, None))])),\n",
              "                ('decisiontreeregressor',\n",
              "                 DecisionTreeRegressor(max_depth=8, max_features='auto'))])"
            ],
            "text/html": [
              "<style>#sk-container-id-5 {color: black;background-color: white;}#sk-container-id-5 pre{padding: 0;}#sk-container-id-5 div.sk-toggleable {background-color: white;}#sk-container-id-5 label.sk-toggleable__label {cursor: pointer;display: block;width: 100%;margin-bottom: 0;padding: 0.3em;box-sizing: border-box;text-align: center;}#sk-container-id-5 label.sk-toggleable__label-arrow:before {content: \"▸\";float: left;margin-right: 0.25em;color: #696969;}#sk-container-id-5 label.sk-toggleable__label-arrow:hover:before {color: black;}#sk-container-id-5 div.sk-estimator:hover label.sk-toggleable__label-arrow:before {color: black;}#sk-container-id-5 div.sk-toggleable__content {max-height: 0;max-width: 0;overflow: hidden;text-align: left;background-color: #f0f8ff;}#sk-container-id-5 div.sk-toggleable__content pre {margin: 0.2em;color: black;border-radius: 0.25em;background-color: #f0f8ff;}#sk-container-id-5 input.sk-toggleable__control:checked~div.sk-toggleable__content {max-height: 200px;max-width: 100%;overflow: auto;}#sk-container-id-5 input.sk-toggleable__control:checked~label.sk-toggleable__label-arrow:before {content: \"▾\";}#sk-container-id-5 div.sk-estimator input.sk-toggleable__control:checked~label.sk-toggleable__label {background-color: #d4ebff;}#sk-container-id-5 div.sk-label input.sk-toggleable__control:checked~label.sk-toggleable__label {background-color: #d4ebff;}#sk-container-id-5 input.sk-hidden--visually {border: 0;clip: rect(1px 1px 1px 1px);clip: rect(1px, 1px, 1px, 1px);height: 1px;margin: -1px;overflow: hidden;padding: 0;position: absolute;width: 1px;}#sk-container-id-5 div.sk-estimator {font-family: monospace;background-color: #f0f8ff;border: 1px dotted black;border-radius: 0.25em;box-sizing: border-box;margin-bottom: 0.5em;}#sk-container-id-5 div.sk-estimator:hover {background-color: #d4ebff;}#sk-container-id-5 div.sk-parallel-item::after {content: \"\";width: 100%;border-bottom: 1px solid gray;flex-grow: 1;}#sk-container-id-5 div.sk-label:hover label.sk-toggleable__label {background-color: #d4ebff;}#sk-container-id-5 div.sk-serial::before {content: \"\";position: absolute;border-left: 1px solid gray;box-sizing: border-box;top: 0;bottom: 0;left: 50%;z-index: 0;}#sk-container-id-5 div.sk-serial {display: flex;flex-direction: column;align-items: center;background-color: white;padding-right: 0.2em;padding-left: 0.2em;position: relative;}#sk-container-id-5 div.sk-item {position: relative;z-index: 1;}#sk-container-id-5 div.sk-parallel {display: flex;align-items: stretch;justify-content: center;background-color: white;position: relative;}#sk-container-id-5 div.sk-item::before, #sk-container-id-5 div.sk-parallel-item::before {content: \"\";position: absolute;border-left: 1px solid gray;box-sizing: border-box;top: 0;bottom: 0;left: 50%;z-index: -1;}#sk-container-id-5 div.sk-parallel-item {display: flex;flex-direction: column;z-index: 1;position: relative;background-color: white;}#sk-container-id-5 div.sk-parallel-item:first-child::after {align-self: flex-end;width: 50%;}#sk-container-id-5 div.sk-parallel-item:last-child::after {align-self: flex-start;width: 50%;}#sk-container-id-5 div.sk-parallel-item:only-child::after {width: 0;}#sk-container-id-5 div.sk-dashed-wrapped {border: 1px dashed gray;margin: 0 0.4em 0.5em 0.4em;box-sizing: border-box;padding-bottom: 0.4em;background-color: white;}#sk-container-id-5 div.sk-label label {font-family: monospace;font-weight: bold;display: inline-block;line-height: 1.2em;}#sk-container-id-5 div.sk-label-container {text-align: center;}#sk-container-id-5 div.sk-container {/* jupyter's `normalize.less` sets `[hidden] { display: none; }` but bootstrap.min.css set `[hidden] { display: none !important; }` so we also need the `!important` here to be able to override the default hidden behavior on the sphinx rendered scikit-learn.org. See: https://github.com/scikit-learn/scikit-learn/issues/21755 */display: inline-block !important;position: relative;}#sk-container-id-5 div.sk-text-repr-fallback {display: none;}</style><div id=\"sk-container-id-5\" class=\"sk-top-container\"><div class=\"sk-text-repr-fallback\"><pre>Pipeline(steps=[(&#x27;columntransformer-1&#x27;,\n",
              "                 ColumnTransformer(remainder=&#x27;passthrough&#x27;,\n",
              "                                   transformers=[(&#x27;trf1&#x27;,\n",
              "                                                  OrdinalEncoder(categories=[[&#x27;Fair&#x27;,\n",
              "                                                                              &#x27;Good&#x27;,\n",
              "                                                                              &#x27;Very &#x27;\n",
              "                                                                              &#x27;Good&#x27;,\n",
              "                                                                              &#x27;Premium&#x27;,\n",
              "                                                                              &#x27;Ideal&#x27;],\n",
              "                                                                             [&#x27;D&#x27;,\n",
              "                                                                              &#x27;E&#x27;,\n",
              "                                                                              &#x27;F&#x27;,\n",
              "                                                                              &#x27;G&#x27;,\n",
              "                                                                              &#x27;H&#x27;,\n",
              "                                                                              &#x27;I&#x27;,\n",
              "                                                                              &#x27;J&#x27;],\n",
              "                                                                             [&#x27;IF&#x27;,\n",
              "                                                                              &#x27;VVS1&#x27;,\n",
              "                                                                              &#x27;VVS2&#x27;,\n",
              "                                                                              &#x27;VS1&#x27;,\n",
              "                                                                              &#x27;VS2&#x27;,\n",
              "                                                                              &#x27;SI1&#x27;,\n",
              "                                                                              &#x27;SI2&#x27;,\n",
              "                                                                              &#x27;I1&#x27;]]),\n",
              "                                                  [1, 2, 3])])),\n",
              "                (&#x27;columntransformer-2&#x27;,\n",
              "                 ColumnTransformer(transformers=[(&#x27;trf2&#x27;, StandardScaler(),\n",
              "                                                  slice(0, 10, None))])),\n",
              "                (&#x27;decisiontreeregressor&#x27;,\n",
              "                 DecisionTreeRegressor(max_depth=8, max_features=&#x27;auto&#x27;))])</pre><b>In a Jupyter environment, please rerun this cell to show the HTML representation or trust the notebook. <br />On GitHub, the HTML representation is unable to render, please try loading this page with nbviewer.org.</b></div><div class=\"sk-container\" hidden><div class=\"sk-item sk-dashed-wrapped\"><div class=\"sk-label-container\"><div class=\"sk-label sk-toggleable\"><input class=\"sk-toggleable__control sk-hidden--visually\" id=\"sk-estimator-id-42\" type=\"checkbox\" ><label for=\"sk-estimator-id-42\" class=\"sk-toggleable__label sk-toggleable__label-arrow\">Pipeline</label><div class=\"sk-toggleable__content\"><pre>Pipeline(steps=[(&#x27;columntransformer-1&#x27;,\n",
              "                 ColumnTransformer(remainder=&#x27;passthrough&#x27;,\n",
              "                                   transformers=[(&#x27;trf1&#x27;,\n",
              "                                                  OrdinalEncoder(categories=[[&#x27;Fair&#x27;,\n",
              "                                                                              &#x27;Good&#x27;,\n",
              "                                                                              &#x27;Very &#x27;\n",
              "                                                                              &#x27;Good&#x27;,\n",
              "                                                                              &#x27;Premium&#x27;,\n",
              "                                                                              &#x27;Ideal&#x27;],\n",
              "                                                                             [&#x27;D&#x27;,\n",
              "                                                                              &#x27;E&#x27;,\n",
              "                                                                              &#x27;F&#x27;,\n",
              "                                                                              &#x27;G&#x27;,\n",
              "                                                                              &#x27;H&#x27;,\n",
              "                                                                              &#x27;I&#x27;,\n",
              "                                                                              &#x27;J&#x27;],\n",
              "                                                                             [&#x27;IF&#x27;,\n",
              "                                                                              &#x27;VVS1&#x27;,\n",
              "                                                                              &#x27;VVS2&#x27;,\n",
              "                                                                              &#x27;VS1&#x27;,\n",
              "                                                                              &#x27;VS2&#x27;,\n",
              "                                                                              &#x27;SI1&#x27;,\n",
              "                                                                              &#x27;SI2&#x27;,\n",
              "                                                                              &#x27;I1&#x27;]]),\n",
              "                                                  [1, 2, 3])])),\n",
              "                (&#x27;columntransformer-2&#x27;,\n",
              "                 ColumnTransformer(transformers=[(&#x27;trf2&#x27;, StandardScaler(),\n",
              "                                                  slice(0, 10, None))])),\n",
              "                (&#x27;decisiontreeregressor&#x27;,\n",
              "                 DecisionTreeRegressor(max_depth=8, max_features=&#x27;auto&#x27;))])</pre></div></div></div><div class=\"sk-serial\"><div class=\"sk-item sk-dashed-wrapped\"><div class=\"sk-label-container\"><div class=\"sk-label sk-toggleable\"><input class=\"sk-toggleable__control sk-hidden--visually\" id=\"sk-estimator-id-43\" type=\"checkbox\" ><label for=\"sk-estimator-id-43\" class=\"sk-toggleable__label sk-toggleable__label-arrow\">columntransformer-1: ColumnTransformer</label><div class=\"sk-toggleable__content\"><pre>ColumnTransformer(remainder=&#x27;passthrough&#x27;,\n",
              "                  transformers=[(&#x27;trf1&#x27;,\n",
              "                                 OrdinalEncoder(categories=[[&#x27;Fair&#x27;, &#x27;Good&#x27;,\n",
              "                                                             &#x27;Very Good&#x27;,\n",
              "                                                             &#x27;Premium&#x27;,\n",
              "                                                             &#x27;Ideal&#x27;],\n",
              "                                                            [&#x27;D&#x27;, &#x27;E&#x27;, &#x27;F&#x27;, &#x27;G&#x27;,\n",
              "                                                             &#x27;H&#x27;, &#x27;I&#x27;, &#x27;J&#x27;],\n",
              "                                                            [&#x27;IF&#x27;, &#x27;VVS1&#x27;,\n",
              "                                                             &#x27;VVS2&#x27;, &#x27;VS1&#x27;,\n",
              "                                                             &#x27;VS2&#x27;, &#x27;SI1&#x27;,\n",
              "                                                             &#x27;SI2&#x27;, &#x27;I1&#x27;]]),\n",
              "                                 [1, 2, 3])])</pre></div></div></div><div class=\"sk-parallel\"><div class=\"sk-parallel-item\"><div class=\"sk-item\"><div class=\"sk-label-container\"><div class=\"sk-label sk-toggleable\"><input class=\"sk-toggleable__control sk-hidden--visually\" id=\"sk-estimator-id-44\" type=\"checkbox\" ><label for=\"sk-estimator-id-44\" class=\"sk-toggleable__label sk-toggleable__label-arrow\">trf1</label><div class=\"sk-toggleable__content\"><pre>[1, 2, 3]</pre></div></div></div><div class=\"sk-serial\"><div class=\"sk-item\"><div class=\"sk-estimator sk-toggleable\"><input class=\"sk-toggleable__control sk-hidden--visually\" id=\"sk-estimator-id-45\" type=\"checkbox\" ><label for=\"sk-estimator-id-45\" class=\"sk-toggleable__label sk-toggleable__label-arrow\">OrdinalEncoder</label><div class=\"sk-toggleable__content\"><pre>OrdinalEncoder(categories=[[&#x27;Fair&#x27;, &#x27;Good&#x27;, &#x27;Very Good&#x27;, &#x27;Premium&#x27;, &#x27;Ideal&#x27;],\n",
              "                           [&#x27;D&#x27;, &#x27;E&#x27;, &#x27;F&#x27;, &#x27;G&#x27;, &#x27;H&#x27;, &#x27;I&#x27;, &#x27;J&#x27;],\n",
              "                           [&#x27;IF&#x27;, &#x27;VVS1&#x27;, &#x27;VVS2&#x27;, &#x27;VS1&#x27;, &#x27;VS2&#x27;, &#x27;SI1&#x27;, &#x27;SI2&#x27;,\n",
              "                            &#x27;I1&#x27;]])</pre></div></div></div></div></div></div><div class=\"sk-parallel-item\"><div class=\"sk-item\"><div class=\"sk-label-container\"><div class=\"sk-label sk-toggleable\"><input class=\"sk-toggleable__control sk-hidden--visually\" id=\"sk-estimator-id-46\" type=\"checkbox\" ><label for=\"sk-estimator-id-46\" class=\"sk-toggleable__label sk-toggleable__label-arrow\">remainder</label><div class=\"sk-toggleable__content\"><pre>[&#x27;carat&#x27;, &#x27;depth&#x27;, &#x27;table&#x27;, &#x27;length&#x27;, &#x27;width&#x27;, &#x27;height&#x27;]</pre></div></div></div><div class=\"sk-serial\"><div class=\"sk-item\"><div class=\"sk-estimator sk-toggleable\"><input class=\"sk-toggleable__control sk-hidden--visually\" id=\"sk-estimator-id-47\" type=\"checkbox\" ><label for=\"sk-estimator-id-47\" class=\"sk-toggleable__label sk-toggleable__label-arrow\">passthrough</label><div class=\"sk-toggleable__content\"><pre>passthrough</pre></div></div></div></div></div></div></div></div><div class=\"sk-item sk-dashed-wrapped\"><div class=\"sk-label-container\"><div class=\"sk-label sk-toggleable\"><input class=\"sk-toggleable__control sk-hidden--visually\" id=\"sk-estimator-id-48\" type=\"checkbox\" ><label for=\"sk-estimator-id-48\" class=\"sk-toggleable__label sk-toggleable__label-arrow\">columntransformer-2: ColumnTransformer</label><div class=\"sk-toggleable__content\"><pre>ColumnTransformer(transformers=[(&#x27;trf2&#x27;, StandardScaler(), slice(0, 10, None))])</pre></div></div></div><div class=\"sk-parallel\"><div class=\"sk-parallel-item\"><div class=\"sk-item\"><div class=\"sk-label-container\"><div class=\"sk-label sk-toggleable\"><input class=\"sk-toggleable__control sk-hidden--visually\" id=\"sk-estimator-id-49\" type=\"checkbox\" ><label for=\"sk-estimator-id-49\" class=\"sk-toggleable__label sk-toggleable__label-arrow\">trf2</label><div class=\"sk-toggleable__content\"><pre>slice(0, 10, None)</pre></div></div></div><div class=\"sk-serial\"><div class=\"sk-item\"><div class=\"sk-estimator sk-toggleable\"><input class=\"sk-toggleable__control sk-hidden--visually\" id=\"sk-estimator-id-50\" type=\"checkbox\" ><label for=\"sk-estimator-id-50\" class=\"sk-toggleable__label sk-toggleable__label-arrow\">StandardScaler</label><div class=\"sk-toggleable__content\"><pre>StandardScaler()</pre></div></div></div></div></div></div></div></div><div class=\"sk-item\"><div class=\"sk-estimator sk-toggleable\"><input class=\"sk-toggleable__control sk-hidden--visually\" id=\"sk-estimator-id-51\" type=\"checkbox\" ><label for=\"sk-estimator-id-51\" class=\"sk-toggleable__label sk-toggleable__label-arrow\">DecisionTreeRegressor</label><div class=\"sk-toggleable__content\"><pre>DecisionTreeRegressor(max_depth=8, max_features=&#x27;auto&#x27;)</pre></div></div></div></div></div></div></div>"
            ]
          },
          "metadata": {},
          "execution_count": 43
        }
      ]
    },
    {
      "cell_type": "code",
      "source": [],
      "metadata": {
        "id": "At2MVtAkhhr-"
      },
      "execution_count": null,
      "outputs": []
    },
    {
      "cell_type": "code",
      "source": [],
      "metadata": {
        "id": "F4MXIjmhhhvN"
      },
      "execution_count": null,
      "outputs": []
    },
    {
      "cell_type": "code",
      "source": [
        "test=np.array([2.0,\t\"Ideal\"\t,\"G\",\"SI2\",\t62.2\t,57.0\t,8.13,\t8.0,\t5.02],dtype=object).reshape(1,9)"
      ],
      "metadata": {
        "id": "4nIdNLWsg9ew"
      },
      "execution_count": 44,
      "outputs": []
    },
    {
      "cell_type": "code",
      "source": [
        "pipe.predict(test)"
      ],
      "metadata": {
        "colab": {
          "base_uri": "https://localhost:8080/"
        },
        "id": "DCXoHZCHg9iO",
        "outputId": "4e11910d-4454-4f89-c782-2296e0a7c77d"
      },
      "execution_count": 45,
      "outputs": [
        {
          "output_type": "execute_result",
          "data": {
            "text/plain": [
              "array([1331731.19323944])"
            ]
          },
          "metadata": {},
          "execution_count": 45
        }
      ]
    },
    {
      "cell_type": "code",
      "source": [
        "import pickle"
      ],
      "metadata": {
        "id": "qyn_afaMjpQ_"
      },
      "execution_count": 46,
      "outputs": []
    },
    {
      "cell_type": "code",
      "source": [
        "pickle.dump(pipe,open('pipe1.pkl','wb'))"
      ],
      "metadata": {
        "id": "7vsQpCvqeU2I"
      },
      "execution_count": null,
      "outputs": []
    },
    {
      "cell_type": "code",
      "source": [],
      "metadata": {
        "id": "WJeDpnTqeU5p"
      },
      "execution_count": null,
      "outputs": []
    },
    {
      "cell_type": "code",
      "source": [
        "data.sample()"
      ],
      "metadata": {
        "colab": {
          "base_uri": "https://localhost:8080/",
          "height": 80
        },
        "id": "x7dRTjXQdmgz",
        "outputId": "832b495b-d426-483e-ee79-9f033ec4d7a0"
      },
      "execution_count": null,
      "outputs": [
        {
          "output_type": "execute_result",
          "data": {
            "text/plain": [
              "       carat    cut color clarity  depth  table  length  width  height  \\\n",
              "23892    2.0  Ideal     G     SI2   62.2   57.0    8.13    8.0    5.02   \n",
              "\n",
              "           price  \n",
              "23892  995483.52  "
            ],
            "text/html": [
              "\n",
              "  <div id=\"df-b24b4f4f-4147-4b9a-8d5c-9aeb5da7188b\" class=\"colab-df-container\">\n",
              "    <div>\n",
              "<style scoped>\n",
              "    .dataframe tbody tr th:only-of-type {\n",
              "        vertical-align: middle;\n",
              "    }\n",
              "\n",
              "    .dataframe tbody tr th {\n",
              "        vertical-align: top;\n",
              "    }\n",
              "\n",
              "    .dataframe thead th {\n",
              "        text-align: right;\n",
              "    }\n",
              "</style>\n",
              "<table border=\"1\" class=\"dataframe\">\n",
              "  <thead>\n",
              "    <tr style=\"text-align: right;\">\n",
              "      <th></th>\n",
              "      <th>carat</th>\n",
              "      <th>cut</th>\n",
              "      <th>color</th>\n",
              "      <th>clarity</th>\n",
              "      <th>depth</th>\n",
              "      <th>table</th>\n",
              "      <th>length</th>\n",
              "      <th>width</th>\n",
              "      <th>height</th>\n",
              "      <th>price</th>\n",
              "    </tr>\n",
              "  </thead>\n",
              "  <tbody>\n",
              "    <tr>\n",
              "      <th>23892</th>\n",
              "      <td>2.0</td>\n",
              "      <td>Ideal</td>\n",
              "      <td>G</td>\n",
              "      <td>SI2</td>\n",
              "      <td>62.2</td>\n",
              "      <td>57.0</td>\n",
              "      <td>8.13</td>\n",
              "      <td>8.0</td>\n",
              "      <td>5.02</td>\n",
              "      <td>995483.52</td>\n",
              "    </tr>\n",
              "  </tbody>\n",
              "</table>\n",
              "</div>\n",
              "    <div class=\"colab-df-buttons\">\n",
              "\n",
              "  <div class=\"colab-df-container\">\n",
              "    <button class=\"colab-df-convert\" onclick=\"convertToInteractive('df-b24b4f4f-4147-4b9a-8d5c-9aeb5da7188b')\"\n",
              "            title=\"Convert this dataframe to an interactive table.\"\n",
              "            style=\"display:none;\">\n",
              "\n",
              "  <svg xmlns=\"http://www.w3.org/2000/svg\" height=\"24px\" viewBox=\"0 -960 960 960\">\n",
              "    <path d=\"M120-120v-720h720v720H120Zm60-500h600v-160H180v160Zm220 220h160v-160H400v160Zm0 220h160v-160H400v160ZM180-400h160v-160H180v160Zm440 0h160v-160H620v160ZM180-180h160v-160H180v160Zm440 0h160v-160H620v160Z\"/>\n",
              "  </svg>\n",
              "    </button>\n",
              "\n",
              "  <style>\n",
              "    .colab-df-container {\n",
              "      display:flex;\n",
              "      gap: 12px;\n",
              "    }\n",
              "\n",
              "    .colab-df-convert {\n",
              "      background-color: #E8F0FE;\n",
              "      border: none;\n",
              "      border-radius: 50%;\n",
              "      cursor: pointer;\n",
              "      display: none;\n",
              "      fill: #1967D2;\n",
              "      height: 32px;\n",
              "      padding: 0 0 0 0;\n",
              "      width: 32px;\n",
              "    }\n",
              "\n",
              "    .colab-df-convert:hover {\n",
              "      background-color: #E2EBFA;\n",
              "      box-shadow: 0px 1px 2px rgba(60, 64, 67, 0.3), 0px 1px 3px 1px rgba(60, 64, 67, 0.15);\n",
              "      fill: #174EA6;\n",
              "    }\n",
              "\n",
              "    .colab-df-buttons div {\n",
              "      margin-bottom: 4px;\n",
              "    }\n",
              "\n",
              "    [theme=dark] .colab-df-convert {\n",
              "      background-color: #3B4455;\n",
              "      fill: #D2E3FC;\n",
              "    }\n",
              "\n",
              "    [theme=dark] .colab-df-convert:hover {\n",
              "      background-color: #434B5C;\n",
              "      box-shadow: 0px 1px 3px 1px rgba(0, 0, 0, 0.15);\n",
              "      filter: drop-shadow(0px 1px 2px rgba(0, 0, 0, 0.3));\n",
              "      fill: #FFFFFF;\n",
              "    }\n",
              "  </style>\n",
              "\n",
              "    <script>\n",
              "      const buttonEl =\n",
              "        document.querySelector('#df-b24b4f4f-4147-4b9a-8d5c-9aeb5da7188b button.colab-df-convert');\n",
              "      buttonEl.style.display =\n",
              "        google.colab.kernel.accessAllowed ? 'block' : 'none';\n",
              "\n",
              "      async function convertToInteractive(key) {\n",
              "        const element = document.querySelector('#df-b24b4f4f-4147-4b9a-8d5c-9aeb5da7188b');\n",
              "        const dataTable =\n",
              "          await google.colab.kernel.invokeFunction('convertToInteractive',\n",
              "                                                    [key], {});\n",
              "        if (!dataTable) return;\n",
              "\n",
              "        const docLinkHtml = 'Like what you see? Visit the ' +\n",
              "          '<a target=\"_blank\" href=https://colab.research.google.com/notebooks/data_table.ipynb>data table notebook</a>'\n",
              "          + ' to learn more about interactive tables.';\n",
              "        element.innerHTML = '';\n",
              "        dataTable['output_type'] = 'display_data';\n",
              "        await google.colab.output.renderOutput(dataTable, element);\n",
              "        const docLink = document.createElement('div');\n",
              "        docLink.innerHTML = docLinkHtml;\n",
              "        element.appendChild(docLink);\n",
              "      }\n",
              "    </script>\n",
              "  </div>\n",
              "\n",
              "\n",
              "    </div>\n",
              "  </div>\n"
            ]
          },
          "metadata": {},
          "execution_count": 72
        }
      ]
    },
    {
      "cell_type": "code",
      "source": [],
      "metadata": {
        "id": "ql_cC46PhYTE"
      },
      "execution_count": null,
      "outputs": []
    }
  ]
}